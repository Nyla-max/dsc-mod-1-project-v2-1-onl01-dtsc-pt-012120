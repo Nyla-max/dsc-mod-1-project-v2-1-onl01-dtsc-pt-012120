{
 "cells": [
  {
   "cell_type": "markdown",
   "metadata": {},
   "source": [
    "## Final Project Submission\n",
    "\n",
    "Please fill out:\n",
    "* Student name: Nyla Duperval\n",
    "* Student pace: Part Time\n",
    "* Scheduled project review date/time: \n",
    "* Instructor name: Victor Geislinger\n",
    "* Blog post URL:"
   ]
  },
  {
   "cell_type": "markdown",
   "metadata": {},
   "source": [
    "Lights, Camera, ACTION! \n",
    "\n",
    "Since the 1890s, the film industry has provided a gateway to learning, communion and exploration. With the advancement of technology, the film industry has changed specifically the monetary input. A successful file requires a sucessful a team of writers, cinematographers, editors etc. To determine if Microsoft should enter the film industry, lets take a look at how much does it will cost to make a successful movie. Success will be determined by the comparison of production budget and gross(domestic & worldwide). "
   ]
  },
  {
   "cell_type": "code",
   "execution_count": 206,
   "metadata": {},
   "outputs": [],
   "source": [
    "# Your code here - remember to use markdown cells for comments as well!\n",
    "import numpy as np\n",
    "import pandas as pd\n",
    "import matplotlib.pyplot as plt\n",
    "%matplotlib inline"
   ]
  },
  {
   "cell_type": "code",
   "execution_count": 207,
   "metadata": {},
   "outputs": [],
   "source": [
    "tn_budgets = pd.read_csv('zippedData/tn.movie_budgets.csv.gz') "
   ]
  },
  {
   "cell_type": "markdown",
   "metadata": {},
   "source": [
    "Data Cleaning\n",
    "\n",
    "First, I have cleaned the data within the dataframe imported. I created a column to specify only the year of a movie release for easier indexing. I also removed the column 'id' and 'release_date'. The dataset did not have any NaN values. I checked for duplicates which showed movies with similar or the same movie title but we're release different years. Within the movie industry, movie remakes are common and can have very large timeframes. "
   ]
  },
  {
   "cell_type": "code",
   "execution_count": 208,
   "metadata": {},
   "outputs": [
    {
     "data": {
      "text/plain": [
       "(5782, 6)"
      ]
     },
     "execution_count": 208,
     "metadata": {},
     "output_type": "execute_result"
    }
   ],
   "source": [
    "tn_budgets.shape"
   ]
  },
  {
   "cell_type": "code",
   "execution_count": 209,
   "metadata": {},
   "outputs": [
    {
     "data": {
      "text/plain": [
       "id                    int64\n",
       "release_date         object\n",
       "movie                object\n",
       "production_budget    object\n",
       "domestic_gross       object\n",
       "worldwide_gross      object\n",
       "dtype: object"
      ]
     },
     "execution_count": 209,
     "metadata": {},
     "output_type": "execute_result"
    }
   ],
   "source": [
    "tn_budgets.dtypes"
   ]
  },
  {
   "cell_type": "code",
   "execution_count": 210,
   "metadata": {},
   "outputs": [],
   "source": [
    "tn_budgets['production_budget'] = tn_budgets['production_budget'].str.replace(',', '').str.replace('$', '').astype(int)\n",
    "tn_budgets['domestic_gross'] = tn_budgets['domestic_gross'].str.replace(',', '').str.replace('$', '').astype(int)\n",
    "tn_budgets['worldwide_gross'] = tn_budgets['worldwide_gross'].str.replace(',', '').str.replace('$', '').astype(float)\n",
    "#Changed dtype for monetary sections"
   ]
  },
  {
   "cell_type": "code",
   "execution_count": 211,
   "metadata": {},
   "outputs": [],
   "source": [
    "tn_budgets['release_date'] = tn_budgets['release_date'].str.replace(',', '')\n",
    "tn_budgets['release_date'] = pd.to_datetime(tn_budgets['release_date'])\n",
    "tn_budgets['Year'] = tn_budgets['release_date'].dt.year\n",
    "#Changed dtype and created new column"
   ]
  },
  {
   "cell_type": "code",
   "execution_count": 212,
   "metadata": {},
   "outputs": [],
   "source": [
    "tn_budgets = tn_budgets.drop('id', axis=1)\n",
    "tn_budgets = tn_budgets.drop('release_date',1)"
   ]
  },
  {
   "cell_type": "code",
   "execution_count": 213,
   "metadata": {},
   "outputs": [
    {
     "data": {
      "text/plain": [
       "movie                 object\n",
       "production_budget      int32\n",
       "domestic_gross         int32\n",
       "worldwide_gross      float64\n",
       "Year                   int64\n",
       "dtype: object"
      ]
     },
     "execution_count": 213,
     "metadata": {},
     "output_type": "execute_result"
    }
   ],
   "source": [
    "tn_budgets.dtypes"
   ]
  },
  {
   "cell_type": "code",
   "execution_count": 227,
   "metadata": {},
   "outputs": [
    {
     "data": {
      "text/html": [
       "<div>\n",
       "<style scoped>\n",
       "    .dataframe tbody tr th:only-of-type {\n",
       "        vertical-align: middle;\n",
       "    }\n",
       "\n",
       "    .dataframe tbody tr th {\n",
       "        vertical-align: top;\n",
       "    }\n",
       "\n",
       "    .dataframe thead th {\n",
       "        text-align: right;\n",
       "    }\n",
       "</style>\n",
       "<table border=\"1\" class=\"dataframe\">\n",
       "  <thead>\n",
       "    <tr style=\"text-align: right;\">\n",
       "      <th></th>\n",
       "      <th>movie</th>\n",
       "      <th>production_budget</th>\n",
       "      <th>domestic_gross</th>\n",
       "      <th>worldwide_gross</th>\n",
       "      <th>Year</th>\n",
       "    </tr>\n",
       "  </thead>\n",
       "  <tbody>\n",
       "    <tr>\n",
       "      <td>4270</td>\n",
       "      <td>20,000 Leagues Under the Sea</td>\n",
       "      <td>5000000</td>\n",
       "      <td>28200000</td>\n",
       "      <td>2.820000e+07</td>\n",
       "      <td>1954</td>\n",
       "    </tr>\n",
       "    <tr>\n",
       "      <td>5016</td>\n",
       "      <td>A Nightmare on Elm Street</td>\n",
       "      <td>1800000</td>\n",
       "      <td>25504513</td>\n",
       "      <td>2.550451e+07</td>\n",
       "      <td>1984</td>\n",
       "    </tr>\n",
       "    <tr>\n",
       "      <td>2032</td>\n",
       "      <td>Aladdin</td>\n",
       "      <td>28000000</td>\n",
       "      <td>217350219</td>\n",
       "      <td>5.040502e+08</td>\n",
       "      <td>1992</td>\n",
       "    </tr>\n",
       "    <tr>\n",
       "      <td>50</td>\n",
       "      <td>Alice in Wonderland</td>\n",
       "      <td>200000000</td>\n",
       "      <td>334191110</td>\n",
       "      <td>1.025491e+09</td>\n",
       "      <td>2010</td>\n",
       "    </tr>\n",
       "    <tr>\n",
       "      <td>340</td>\n",
       "      <td>Around the World in 80 Days</td>\n",
       "      <td>110000000</td>\n",
       "      <td>24004159</td>\n",
       "      <td>7.200416e+07</td>\n",
       "      <td>2004</td>\n",
       "    </tr>\n",
       "    <tr>\n",
       "      <td>...</td>\n",
       "      <td>...</td>\n",
       "      <td>...</td>\n",
       "      <td>...</td>\n",
       "      <td>...</td>\n",
       "      <td>...</td>\n",
       "    </tr>\n",
       "    <tr>\n",
       "      <td>2970</td>\n",
       "      <td>Trance</td>\n",
       "      <td>16000000</td>\n",
       "      <td>2322593</td>\n",
       "      <td>2.259405e+07</td>\n",
       "      <td>2013</td>\n",
       "    </tr>\n",
       "    <tr>\n",
       "      <td>2619</td>\n",
       "      <td>Twilight</td>\n",
       "      <td>20000000</td>\n",
       "      <td>15055091</td>\n",
       "      <td>1.505509e+07</td>\n",
       "      <td>1998</td>\n",
       "    </tr>\n",
       "    <tr>\n",
       "      <td>2838</td>\n",
       "      <td>Unforgettable</td>\n",
       "      <td>18000000</td>\n",
       "      <td>2483790</td>\n",
       "      <td>2.483790e+06</td>\n",
       "      <td>1996</td>\n",
       "    </tr>\n",
       "    <tr>\n",
       "      <td>4583</td>\n",
       "      <td>Unknown</td>\n",
       "      <td>3700000</td>\n",
       "      <td>26403</td>\n",
       "      <td>3.355048e+06</td>\n",
       "      <td>2006</td>\n",
       "    </tr>\n",
       "    <tr>\n",
       "      <td>302</td>\n",
       "      <td>Venom</td>\n",
       "      <td>116000000</td>\n",
       "      <td>213511408</td>\n",
       "      <td>8.536286e+08</td>\n",
       "      <td>2018</td>\n",
       "    </tr>\n",
       "  </tbody>\n",
       "</table>\n",
       "<p>84 rows × 5 columns</p>\n",
       "</div>"
      ],
      "text/plain": [
       "                             movie  production_budget  domestic_gross  \\\n",
       "4270  20,000 Leagues Under the Sea            5000000        28200000   \n",
       "5016     A Nightmare on Elm Street            1800000        25504513   \n",
       "2032                       Aladdin           28000000       217350219   \n",
       "50             Alice in Wonderland          200000000       334191110   \n",
       "340    Around the World in 80 Days          110000000        24004159   \n",
       "...                            ...                ...             ...   \n",
       "2970                        Trance           16000000         2322593   \n",
       "2619                      Twilight           20000000        15055091   \n",
       "2838                 Unforgettable           18000000         2483790   \n",
       "4583                       Unknown            3700000           26403   \n",
       "302                          Venom          116000000       213511408   \n",
       "\n",
       "      worldwide_gross  Year  \n",
       "4270     2.820000e+07  1954  \n",
       "5016     2.550451e+07  1984  \n",
       "2032     5.040502e+08  1992  \n",
       "50       1.025491e+09  2010  \n",
       "340      7.200416e+07  2004  \n",
       "...               ...   ...  \n",
       "2970     2.259405e+07  2013  \n",
       "2619     1.505509e+07  1998  \n",
       "2838     2.483790e+06  1996  \n",
       "4583     3.355048e+06  2006  \n",
       "302      8.536286e+08  2018  \n",
       "\n",
       "[84 rows x 5 columns]"
      ]
     },
     "execution_count": 227,
     "metadata": {},
     "output_type": "execute_result"
    }
   ],
   "source": [
    "pd.set_option('display.max_rows',10)\n",
    "tn_budgets.sort_values('movie', inplace=True)\n",
    "bool_series = tn_budgets['movie'].duplicated()\n",
    "tn_budgets[bool_series]\n",
    "#There were no dupicate movies however duplicate names. They may be remakes or movies created with same name but different plots"
   ]
  },
  {
   "cell_type": "code",
   "execution_count": 228,
   "metadata": {},
   "outputs": [
    {
     "data": {
      "text/plain": [
       "movie                0\n",
       "production_budget    0\n",
       "domestic_gross       0\n",
       "worldwide_gross      0\n",
       "Year                 0\n",
       "dtype: int64"
      ]
     },
     "execution_count": 228,
     "metadata": {},
     "output_type": "execute_result"
    }
   ],
   "source": [
    "tn_budgets.isna().sum()\n",
    "#All columns show no NaN values "
   ]
  },
  {
   "cell_type": "code",
   "execution_count": 229,
   "metadata": {},
   "outputs": [
    {
     "data": {
      "text/plain": [
       "Text(0.5, 0, 'Production Budget')"
      ]
     },
     "execution_count": 229,
     "metadata": {},
     "output_type": "execute_result"
    },
    {
     "data": {
      "image/png": "[encoded data removed]",
      "text/plain": [
       "<Figure size 1080x576 with 1 Axes>"
      ]
     },
     "metadata": {
      "needs_background": "light"
     },
     "output_type": "display_data"
    }
   ],
   "source": [
    "tn_budgets.groupby(['Year'])['production_budget'].mean().sort_values().plot(kind='barh', figsize=(15,8))\n",
    "plt.title('Movie Production Budget')\n",
    "plt.xlabel('Production Budget')\n",
    "#From this graph we can see as time passes the average amount of production budgets also increase. Lets dig a little deeper!"
   ]
  },
  {
   "cell_type": "markdown",
   "metadata": {},
   "source": [
    "Data Exploration \n",
    "\n",
    "I am taking a sample of 10% per each new datframe. there seems to be off by 181."
   ]
  },
  {
   "cell_type": "code",
   "execution_count": 230,
   "metadata": {},
   "outputs": [
    {
     "data": {
      "text/plain": [
       "(5234, 5)"
      ]
     },
     "execution_count": 230,
     "metadata": {},
     "output_type": "execute_result"
    }
   ],
   "source": [
    "mark_gross = tn_budgets[(tn_budgets['domestic_gross'] > 0) & (tn_budgets['worldwide_gross'] > 0)].sort_values(by='Year')\n",
    "mark_gross.shape\n",
    "#I am choosing sample size of 358"
   ]
  },
  {
   "cell_type": "code",
   "execution_count": 231,
   "metadata": {
    "scrolled": true
   },
   "outputs": [
    {
     "data": {
      "text/plain": [
       "(358, 5)"
      ]
     },
     "execution_count": 231,
     "metadata": {},
     "output_type": "execute_result"
    }
   ],
   "source": [
    "dw_gross = mark_gross.sample(n=358, replace = False)\n",
    "dw_gross.shape"
   ]
  },
  {
   "cell_type": "code",
   "execution_count": 245,
   "metadata": {},
   "outputs": [
    {
     "data": {
      "image/png": "[encoded data removed]",
      "text/plain": [
       "<Figure size 432x288 with 1 Axes>"
      ]
     },
     "metadata": {
      "needs_background": "light"
     },
     "output_type": "display_data"
    }
   ],
   "source": [
    "dw_gross.plot(kind='scatter', x='Year', y='production_budget', color='blue')\n",
    "plt.show()"
   ]
  },
  {
   "cell_type": "code",
   "execution_count": 247,
   "metadata": {},
   "outputs": [
    {
     "data": {
      "text/plain": [
       "<matplotlib.axes._subplots.AxesSubplot at 0x25cd34702e8>"
      ]
     },
     "execution_count": 247,
     "metadata": {},
     "output_type": "execute_result"
    },
    {
     "data": {
      "image/png": "[encoded data removed]",
      "text/plain": [
       "<Figure size 432x288 with 1 Axes>"
      ]
     },
     "metadata": {
      "needs_background": "light"
     },
     "output_type": "display_data"
    }
   ],
   "source": [
    "dw_gross.plot(kind='scatter', x='Year', y='domestic_gross',color='blue')"
   ]
  },
  {
   "cell_type": "code",
   "execution_count": 248,
   "metadata": {},
   "outputs": [
    {
     "data": {
      "text/plain": [
       "<matplotlib.axes._subplots.AxesSubplot at 0x25cd34cb0f0>"
      ]
     },
     "execution_count": 248,
     "metadata": {},
     "output_type": "execute_result"
    },
    {
     "data": {
      "image/png": "[encoded data removed]",
      "text/plain": [
       "<Figure size 432x288 with 1 Axes>"
      ]
     },
     "metadata": {
      "needs_background": "light"
     },
     "output_type": "display_data"
    }
   ],
   "source": [
    "dw_gross.plot(kind='scatter', x='Year', y='worldwide_gross',color='blue')"
   ]
  },
  {
   "cell_type": "code",
   "execution_count": 246,
   "metadata": {},
   "outputs": [
    {
     "data": {
      "text/plain": [
       "Year\n",
       "1929    3.790000e+05\n",
       "1938    2.000000e+06\n",
       "1945    1.250000e+06\n",
       "1946    2.931000e+06\n",
       "1951    1.500000e+06\n",
       "            ...     \n",
       "2015    5.670833e+07\n",
       "2016    3.695455e+07\n",
       "2017    4.433333e+07\n",
       "2018    5.899333e+07\n",
       "2019    3.150000e+07\n",
       "Name: production_budget, Length: 54, dtype: float64"
      ]
     },
     "execution_count": 246,
     "metadata": {},
     "output_type": "execute_result"
    }
   ],
   "source": [
    "dw_gross.groupby('Year')['production_budget'].mean()"
   ]
  },
  {
   "cell_type": "code",
   "execution_count": 196,
   "metadata": {},
   "outputs": [
    {
     "data": {
      "text/plain": [
       "Year\n",
       "1938    4.000000e+06\n",
       "1946    2.040000e+07\n",
       "1951    3.700000e+06\n",
       "1954    1.500000e+07\n",
       "1956    4.200000e+07\n",
       "            ...     \n",
       "2015    5.166386e+07\n",
       "2016    3.824605e+07\n",
       "2017    1.493773e+07\n",
       "2018    1.319529e+08\n",
       "2019    3.028981e+07\n",
       "Name: domestic_gross, Length: 55, dtype: float64"
      ]
     },
     "execution_count": 196,
     "metadata": {},
     "output_type": "execute_result"
    }
   ],
   "source": [
    "dw_gross.groupby('Year')['domestic_gross'].mean()"
   ]
  },
  {
   "cell_type": "code",
   "execution_count": 197,
   "metadata": {},
   "outputs": [
    {
     "data": {
      "text/plain": [
       "Year\n",
       "1938    4.000000e+06\n",
       "1946    2.040000e+07\n",
       "1951    3.700000e+06\n",
       "1954    1.500000e+07\n",
       "1956    4.200000e+07\n",
       "            ...     \n",
       "2015    1.087057e+08\n",
       "2016    1.323826e+08\n",
       "2017    4.782899e+07\n",
       "2018    2.965351e+08\n",
       "2019    8.322939e+07\n",
       "Name: worldwide_gross, Length: 55, dtype: float64"
      ]
     },
     "execution_count": 197,
     "metadata": {},
     "output_type": "execute_result"
    }
   ],
   "source": [
    "dw_gross.groupby('Year')['worldwide_gross'].mean()"
   ]
  },
  {
   "cell_type": "code",
   "execution_count": 234,
   "metadata": {
    "scrolled": true
   },
   "outputs": [
    {
     "data": {
      "text/plain": [
       "(367, 5)"
      ]
     },
     "execution_count": 234,
     "metadata": {},
     "output_type": "execute_result"
    }
   ],
   "source": [
    "mark1_gross = tn_budgets[(tn_budgets['domestic_gross'] == 0) & (tn_budgets['worldwide_gross'] == 0 )].sort_values(by='Year')\n",
    "mark1_gross.shape\n",
    "#I am going to choose a sample size of 188"
   ]
  },
  {
   "cell_type": "code",
   "execution_count": 236,
   "metadata": {
    "scrolled": true
   },
   "outputs": [
    {
     "data": {
      "text/plain": [
       "(188, 5)"
      ]
     },
     "execution_count": 236,
     "metadata": {},
     "output_type": "execute_result"
    }
   ],
   "source": [
    "zero_gross = mark1_gross.sample(n=188, replace = False, random_state = 188)\n",
    "zero_gross.shape"
   ]
  },
  {
   "cell_type": "code",
   "execution_count": 239,
   "metadata": {},
   "outputs": [
    {
     "data": {
      "text/plain": [
       "<matplotlib.axes._subplots.AxesSubplot at 0x25cd30a67f0>"
      ]
     },
     "execution_count": 239,
     "metadata": {},
     "output_type": "execute_result"
    },
    {
     "data": {
      "image/png": "[encoded data removed]",
      "text/plain": [
       "<Figure size 432x288 with 1 Axes>"
      ]
     },
     "metadata": {
      "needs_background": "light"
     },
     "output_type": "display_data"
    }
   ],
   "source": [
    "zero_gross.plot(kind='scatter', x='Year', y='production_budget', color='red')"
   ]
  },
  {
   "cell_type": "code",
   "execution_count": 237,
   "metadata": {},
   "outputs": [
    {
     "data": {
      "text/plain": [
       "Year\n",
       "1930    4.000000e+06\n",
       "1936    1.200000e+06\n",
       "1941    1.250000e+06\n",
       "1955    1.577000e+06\n",
       "1966    1.688900e+06\n",
       "            ...     \n",
       "2016    5.320000e+06\n",
       "2017    7.050000e+06\n",
       "2018    1.993567e+07\n",
       "2019    3.945500e+07\n",
       "2020    1.000000e+08\n",
       "Name: production_budget, Length: 30, dtype: float64"
      ]
     },
     "execution_count": 237,
     "metadata": {},
     "output_type": "execute_result"
    }
   ],
   "source": [
    "zero_gross.groupby('Year')['production_budget'].mean()"
   ]
  },
  {
   "cell_type": "code",
   "execution_count": 238,
   "metadata": {},
   "outputs": [
    {
     "data": {
      "text/plain": [
       "Year\n",
       "1930      4000000\n",
       "1936      1200000\n",
       "1941      1250000\n",
       "1955      1577000\n",
       "1966      1688900\n",
       "          ...    \n",
       "2016      2100000\n",
       "2017      3500000\n",
       "2018     19800000\n",
       "2019     35400000\n",
       "2020    100000000\n",
       "Name: production_budget, Length: 30, dtype: int32"
      ]
     },
     "execution_count": 238,
     "metadata": {},
     "output_type": "execute_result"
    }
   ],
   "source": [
    "zero_gross.groupby('Year')['production_budget'].median()"
   ]
  },
  {
   "cell_type": "code",
   "execution_count": null,
   "metadata": {},
   "outputs": [],
   "source": []
  }
 ],
 "metadata": {
  "kernelspec": {
   "display_name": "Python 3",
   "language": "python",
   "name": "python3"
  },
  "language_info": {
   "codemirror_mode": {
    "name": "ipython",
    "version": 3
   },
   "file_extension": ".py",
   "mimetype": "text/x-python",
   "name": "python",
   "nbconvert_exporter": "python",
   "pygments_lexer": "ipython3",
   "version": "3.6.9"
  }
 },
 "nbformat": 4,
 "nbformat_minor": 2
}
