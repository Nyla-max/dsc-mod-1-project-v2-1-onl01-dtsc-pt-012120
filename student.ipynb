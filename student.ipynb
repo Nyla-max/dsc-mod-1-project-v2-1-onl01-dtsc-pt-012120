{
 "cells": [
  {
   "cell_type": "markdown",
   "metadata": {},
   "source": [
    "## Final Project Submission\n",
    "\n",
    "Please fill out:\n",
    "* Student name: Nyla Duperval\n",
    "* Student pace: Part Time\n",
    "* Scheduled project review date/time: \n",
    "* Instructor name: Victor Geislinger\n",
    "* Blog post URL:"
   ]
  },
  {
   "cell_type": "code",
   "execution_count": 15,
   "metadata": {},
   "outputs": [],
   "source": [
    "# Your code here - remember to use markdown cells for comments as well!\n",
    "import numpy as np\n",
    "import pandas as pd\n",
    "import matplotlib.pyplot as plt\n",
    "%matplotlib inline"
   ]
  },
  {
   "cell_type": "code",
   "execution_count": 16,
   "metadata": {},
   "outputs": [],
   "source": [
    "tn_budgets = pd.read_csv('zippedData/tn.movie_budgets.csv.gz') "
   ]
  },
  {
   "cell_type": "code",
   "execution_count": 17,
   "metadata": {},
   "outputs": [
    {
     "data": {
      "text/plain": [
       "(5782, 6)"
      ]
     },
     "execution_count": 17,
     "metadata": {},
     "output_type": "execute_result"
    }
   ],
   "source": [
    "tn_budgets.shape"
   ]
  },
  {
   "cell_type": "code",
   "execution_count": 18,
   "metadata": {},
   "outputs": [
    {
     "data": {
      "text/plain": [
       "id                    int64\n",
       "release_date         object\n",
       "movie                object\n",
       "production_budget    object\n",
       "domestic_gross       object\n",
       "worldwide_gross      object\n",
       "dtype: object"
      ]
     },
     "execution_count": 18,
     "metadata": {},
     "output_type": "execute_result"
    }
   ],
   "source": [
    "tn_budgets.dtypes"
   ]
  },
  {
   "cell_type": "code",
   "execution_count": 19,
   "metadata": {},
   "outputs": [],
   "source": [
    "tn_budgets['production_budget'] = tn_budgets['production_budget'].str.replace(',', '').str.replace('$', '').astype(int)\n",
    "tn_budgets['domestic_gross'] = tn_budgets['domestic_gross'].str.replace(',', '').str.replace('$', '').astype(int)\n",
    "tn_budgets['worldwide_gross'] = tn_budgets['worldwide_gross'].str.replace(',', '').str.replace('$', '').astype(float)\n",
    "#Changed dtype for monetary sections"
   ]
  },
  {
   "cell_type": "code",
   "execution_count": 20,
   "metadata": {},
   "outputs": [],
   "source": [
    "tn_budgets['release_date'] = tn_budgets['release_date'].str.replace(',', '')\n",
    "tn_budgets['release_date'] = pd.to_datetime(tn_budgets['release_date'])\n",
    "tn_budgets['Year'] = tn_budgets['release_date'].dt.year\n",
    "#Changed dtype and created new column"
   ]
  },
  {
   "cell_type": "code",
   "execution_count": 21,
   "metadata": {},
   "outputs": [],
   "source": [
    "tn_budgets = tn_budgets.drop('id', axis=1)\n",
    "tn_budgets = tn_budgets.drop('release_date',1)\n",
    "#Removed columns"
   ]
  },
  {
   "cell_type": "code",
   "execution_count": 22,
   "metadata": {},
   "outputs": [
    {
     "data": {
      "text/plain": [
       "movie                 object\n",
       "production_budget      int32\n",
       "domestic_gross         int32\n",
       "worldwide_gross      float64\n",
       "Year                   int64\n",
       "dtype: object"
      ]
     },
     "execution_count": 22,
     "metadata": {},
     "output_type": "execute_result"
    }
   ],
   "source": [
    "tn_budgets.dtypes"
   ]
  },
  {
   "cell_type": "code",
   "execution_count": 23,
   "metadata": {},
   "outputs": [
    {
     "data": {
      "text/html": [
       "<div>\n",
       "<style scoped>\n",
       "    .dataframe tbody tr th:only-of-type {\n",
       "        vertical-align: middle;\n",
       "    }\n",
       "\n",
       "    .dataframe tbody tr th {\n",
       "        vertical-align: top;\n",
       "    }\n",
       "\n",
       "    .dataframe thead th {\n",
       "        text-align: right;\n",
       "    }\n",
       "</style>\n",
       "<table border=\"1\" class=\"dataframe\">\n",
       "  <thead>\n",
       "    <tr style=\"text-align: right;\">\n",
       "      <th></th>\n",
       "      <th>movie</th>\n",
       "      <th>production_budget</th>\n",
       "      <th>domestic_gross</th>\n",
       "      <th>worldwide_gross</th>\n",
       "      <th>Year</th>\n",
       "    </tr>\n",
       "  </thead>\n",
       "  <tbody>\n",
       "    <tr>\n",
       "      <td>5614</td>\n",
       "      <td>20,000 Leagues Under the Sea</td>\n",
       "      <td>200000</td>\n",
       "      <td>8000000</td>\n",
       "      <td>8000000.0</td>\n",
       "      <td>1916</td>\n",
       "    </tr>\n",
       "    <tr>\n",
       "      <td>5016</td>\n",
       "      <td>A Nightmare on Elm Street</td>\n",
       "      <td>1800000</td>\n",
       "      <td>25504513</td>\n",
       "      <td>25504513.0</td>\n",
       "      <td>1984</td>\n",
       "    </tr>\n",
       "    <tr>\n",
       "      <td>2032</td>\n",
       "      <td>Aladdin</td>\n",
       "      <td>28000000</td>\n",
       "      <td>217350219</td>\n",
       "      <td>504050219.0</td>\n",
       "      <td>1992</td>\n",
       "    </tr>\n",
       "    <tr>\n",
       "      <td>4759</td>\n",
       "      <td>Alice in Wonderland</td>\n",
       "      <td>3000000</td>\n",
       "      <td>0</td>\n",
       "      <td>0.0</td>\n",
       "      <td>1951</td>\n",
       "    </tr>\n",
       "    <tr>\n",
       "      <td>4120</td>\n",
       "      <td>Around the World in 80 Days</td>\n",
       "      <td>6000000</td>\n",
       "      <td>42000000</td>\n",
       "      <td>42000000.0</td>\n",
       "      <td>1956</td>\n",
       "    </tr>\n",
       "    <tr>\n",
       "      <td>...</td>\n",
       "      <td>...</td>\n",
       "      <td>...</td>\n",
       "      <td>...</td>\n",
       "      <td>...</td>\n",
       "      <td>...</td>\n",
       "    </tr>\n",
       "    <tr>\n",
       "      <td>5330</td>\n",
       "      <td>Trance</td>\n",
       "      <td>950000</td>\n",
       "      <td>0</td>\n",
       "      <td>0.0</td>\n",
       "      <td>2012</td>\n",
       "    </tr>\n",
       "    <tr>\n",
       "      <td>1588</td>\n",
       "      <td>Twilight</td>\n",
       "      <td>37000000</td>\n",
       "      <td>192769854</td>\n",
       "      <td>402280159.0</td>\n",
       "      <td>2008</td>\n",
       "    </tr>\n",
       "    <tr>\n",
       "      <td>2838</td>\n",
       "      <td>Unforgettable</td>\n",
       "      <td>18000000</td>\n",
       "      <td>2483790</td>\n",
       "      <td>2483790.0</td>\n",
       "      <td>1996</td>\n",
       "    </tr>\n",
       "    <tr>\n",
       "      <td>4583</td>\n",
       "      <td>Unknown</td>\n",
       "      <td>3700000</td>\n",
       "      <td>26403</td>\n",
       "      <td>3355048.0</td>\n",
       "      <td>2006</td>\n",
       "    </tr>\n",
       "    <tr>\n",
       "      <td>302</td>\n",
       "      <td>Venom</td>\n",
       "      <td>116000000</td>\n",
       "      <td>213511408</td>\n",
       "      <td>853628605.0</td>\n",
       "      <td>2018</td>\n",
       "    </tr>\n",
       "  </tbody>\n",
       "</table>\n",
       "<p>84 rows × 5 columns</p>\n",
       "</div>"
      ],
      "text/plain": [
       "                             movie  production_budget  domestic_gross  \\\n",
       "5614  20,000 Leagues Under the Sea             200000         8000000   \n",
       "5016     A Nightmare on Elm Street            1800000        25504513   \n",
       "2032                       Aladdin           28000000       217350219   \n",
       "4759           Alice in Wonderland            3000000               0   \n",
       "4120   Around the World in 80 Days            6000000        42000000   \n",
       "...                            ...                ...             ...   \n",
       "5330                        Trance             950000               0   \n",
       "1588                      Twilight           37000000       192769854   \n",
       "2838                 Unforgettable           18000000         2483790   \n",
       "4583                       Unknown            3700000           26403   \n",
       "302                          Venom          116000000       213511408   \n",
       "\n",
       "      worldwide_gross  Year  \n",
       "5614        8000000.0  1916  \n",
       "5016       25504513.0  1984  \n",
       "2032      504050219.0  1992  \n",
       "4759              0.0  1951  \n",
       "4120       42000000.0  1956  \n",
       "...               ...   ...  \n",
       "5330              0.0  2012  \n",
       "1588      402280159.0  2008  \n",
       "2838        2483790.0  1996  \n",
       "4583        3355048.0  2006  \n",
       "302       853628605.0  2018  \n",
       "\n",
       "[84 rows x 5 columns]"
      ]
     },
     "execution_count": 23,
     "metadata": {},
     "output_type": "execute_result"
    }
   ],
   "source": [
    "pd.set_option('display.max_rows',10)\n",
    "tn_budgets.sort_values('movie', inplace=True)\n",
    "bool_series = tn_budgets['movie'].duplicated()\n",
    "tn_budgets[bool_series]\n",
    "#There were no dupicate movies however duplicate names. They may be remakes or movies created with same name but different plots"
   ]
  },
  {
   "cell_type": "code",
   "execution_count": 24,
   "metadata": {},
   "outputs": [
    {
     "data": {
      "text/plain": [
       "movie                0\n",
       "production_budget    0\n",
       "domestic_gross       0\n",
       "worldwide_gross      0\n",
       "Year                 0\n",
       "dtype: int64"
      ]
     },
     "execution_count": 24,
     "metadata": {},
     "output_type": "execute_result"
    }
   ],
   "source": [
    "tn_budgets.isna().sum()\n",
    "#All columns show no NaN values "
   ]
  },
  {
   "cell_type": "code",
   "execution_count": 25,
   "metadata": {},
   "outputs": [
    {
     "data": {
      "text/plain": [
       "Text(0.5, 0, 'Production Budget')"
      ]
     },
     "execution_count": 25,
     "metadata": {},
     "output_type": "execute_result"
    },
    {
     "data": {
      "image/png": "[encoded data removed]",
      "text/plain": [
       "<Figure size 1080x576 with 1 Axes>"
      ]
     },
     "metadata": {
      "needs_background": "light"
     },
     "output_type": "display_data"
    }
   ],
   "source": [
    "tn_budgets.groupby(['Year'])['production_budget'].mean().sort_values().plot(kind='barh', figsize=(15,8))\n",
    "plt.title('Movie Production Budget')\n",
    "plt.xlabel('Production Budget')\n",
    "#From this graph we can see as time passes the average amount of production budgets also increase. Lets dig a little deeper!"
   ]
  },
  {
   "cell_type": "code",
   "execution_count": 26,
   "metadata": {},
   "outputs": [
    {
     "data": {
      "text/plain": [
       "(5234, 5)"
      ]
     },
     "execution_count": 26,
     "metadata": {},
     "output_type": "execute_result"
    }
   ],
   "source": [
    "mark_gross = tn_budgets[(tn_budgets['domestic_gross'] > 0) & (tn_budgets['worldwide_gross'] > 0)].sort_values(by='Year')\n",
    "mark_gross.shape\n",
    "#Created a dateframe with movies whom have a domestic and worldwide gross larger than 0."
   ]
  },
  {
   "cell_type": "code",
   "execution_count": 27,
   "metadata": {
    "scrolled": true
   },
   "outputs": [
    {
     "data": {
      "text/plain": [
       "(358, 5)"
      ]
     },
     "execution_count": 27,
     "metadata": {},
     "output_type": "execute_result"
    }
   ],
   "source": [
    "dw_gross = mark_gross.sample(n=358, replace = False)\n",
    "dw_gross.shape\n",
    "#I choose a sample size of 358 based on research on the best sample size for this amount of data"
   ]
  },
  {
   "cell_type": "code",
   "execution_count": 28,
   "metadata": {},
   "outputs": [
    {
     "data": {
      "image/png": "[encoded data removed]",
      "text/plain": [
       "<Figure size 432x288 with 1 Axes>"
      ]
     },
     "metadata": {
      "needs_background": "light"
     },
     "output_type": "display_data"
    }
   ],
   "source": [
    "dw_gross.plot(kind='scatter', x='Year', y='production_budget', color='blue')\n",
    "plt.show()"
   ]
  },
  {
   "cell_type": "code",
   "execution_count": 29,
   "metadata": {},
   "outputs": [
    {
     "data": {
      "text/plain": [
       "<matplotlib.axes._subplots.AxesSubplot at 0x150e0094278>"
      ]
     },
     "execution_count": 29,
     "metadata": {},
     "output_type": "execute_result"
    },
    {
     "data": {
      "image/png": "[encoded data removed]",
      "text/plain": [
       "<Figure size 432x288 with 1 Axes>"
      ]
     },
     "metadata": {
      "needs_background": "light"
     },
     "output_type": "display_data"
    }
   ],
   "source": [
    "dw_gross.plot(kind='scatter', x='Year', y='domestic_gross',color='blue')"
   ]
  },
  {
   "cell_type": "code",
   "execution_count": 30,
   "metadata": {},
   "outputs": [
    {
     "data": {
      "text/plain": [
       "<matplotlib.axes._subplots.AxesSubplot at 0x150e00ec898>"
      ]
     },
     "execution_count": 30,
     "metadata": {},
     "output_type": "execute_result"
    },
    {
     "data": {
      "image/png": "[encoded data removed]",
      "text/plain": [
       "<Figure size 432x288 with 1 Axes>"
      ]
     },
     "metadata": {
      "needs_background": "light"
     },
     "output_type": "display_data"
    }
   ],
   "source": [
    "dw_gross.plot(kind='scatter', x='Year', y='worldwide_gross',color='blue')"
   ]
  },
  {
   "cell_type": "code",
   "execution_count": 31,
   "metadata": {},
   "outputs": [
    {
     "data": {
      "text/html": [
       "<div>\n",
       "<style scoped>\n",
       "    .dataframe tbody tr th:only-of-type {\n",
       "        vertical-align: middle;\n",
       "    }\n",
       "\n",
       "    .dataframe tbody tr th {\n",
       "        vertical-align: top;\n",
       "    }\n",
       "\n",
       "    .dataframe thead th {\n",
       "        text-align: right;\n",
       "    }\n",
       "</style>\n",
       "<table border=\"1\" class=\"dataframe\">\n",
       "  <thead>\n",
       "    <tr style=\"text-align: right;\">\n",
       "      <th></th>\n",
       "      <th>movie</th>\n",
       "      <th>production_budget</th>\n",
       "      <th>domestic_gross</th>\n",
       "      <th>worldwide_gross</th>\n",
       "    </tr>\n",
       "    <tr>\n",
       "      <th>Year</th>\n",
       "      <th></th>\n",
       "      <th></th>\n",
       "      <th></th>\n",
       "      <th></th>\n",
       "    </tr>\n",
       "  </thead>\n",
       "  <tbody>\n",
       "    <tr>\n",
       "      <td>2015</td>\n",
       "      <td>Woman in Gold</td>\n",
       "      <td>11000000</td>\n",
       "      <td>33307793</td>\n",
       "      <td>58586407.0</td>\n",
       "    </tr>\n",
       "    <tr>\n",
       "      <td>2015</td>\n",
       "      <td>Loin des hommes</td>\n",
       "      <td>7700000</td>\n",
       "      <td>5336</td>\n",
       "      <td>1080428.0</td>\n",
       "    </tr>\n",
       "    <tr>\n",
       "      <td>2015</td>\n",
       "      <td>Insidious Chapter 3</td>\n",
       "      <td>10000000</td>\n",
       "      <td>52218558</td>\n",
       "      <td>120453155.0</td>\n",
       "    </tr>\n",
       "    <tr>\n",
       "      <td>2015</td>\n",
       "      <td>Ex Machina</td>\n",
       "      <td>13000000</td>\n",
       "      <td>25440971</td>\n",
       "      <td>38358392.0</td>\n",
       "    </tr>\n",
       "    <tr>\n",
       "      <td>2015</td>\n",
       "      <td>The Green Inferno</td>\n",
       "      <td>1000000</td>\n",
       "      <td>7192291</td>\n",
       "      <td>12931420.0</td>\n",
       "    </tr>\n",
       "    <tr>\n",
       "      <td>...</td>\n",
       "      <td>...</td>\n",
       "      <td>...</td>\n",
       "      <td>...</td>\n",
       "      <td>...</td>\n",
       "    </tr>\n",
       "    <tr>\n",
       "      <td>2018</td>\n",
       "      <td>Oceanâs 8</td>\n",
       "      <td>70000000</td>\n",
       "      <td>140218711</td>\n",
       "      <td>297115976.0</td>\n",
       "    </tr>\n",
       "    <tr>\n",
       "      <td>2018</td>\n",
       "      <td>Peppermint</td>\n",
       "      <td>25000000</td>\n",
       "      <td>35418723</td>\n",
       "      <td>51800758.0</td>\n",
       "    </tr>\n",
       "    <tr>\n",
       "      <td>2019</td>\n",
       "      <td>Five Feet Apart</td>\n",
       "      <td>7000000</td>\n",
       "      <td>45729221</td>\n",
       "      <td>80504421.0</td>\n",
       "    </tr>\n",
       "    <tr>\n",
       "      <td>2019</td>\n",
       "      <td>Dark Phoenix</td>\n",
       "      <td>350000000</td>\n",
       "      <td>42762350</td>\n",
       "      <td>149762350.0</td>\n",
       "    </tr>\n",
       "    <tr>\n",
       "      <td>2019</td>\n",
       "      <td>Late Night</td>\n",
       "      <td>4000000</td>\n",
       "      <td>246305</td>\n",
       "      <td>246305.0</td>\n",
       "    </tr>\n",
       "  </tbody>\n",
       "</table>\n",
       "<p>50 rows × 4 columns</p>\n",
       "</div>"
      ],
      "text/plain": [
       "                    movie  production_budget  domestic_gross  worldwide_gross\n",
       "Year                                                                         \n",
       "2015        Woman in Gold           11000000        33307793       58586407.0\n",
       "2015      Loin des hommes            7700000            5336        1080428.0\n",
       "2015  Insidious Chapter 3           10000000        52218558      120453155.0\n",
       "2015           Ex Machina           13000000        25440971       38358392.0\n",
       "2015    The Green Inferno            1000000         7192291       12931420.0\n",
       "...                   ...                ...             ...              ...\n",
       "2018          Oceanâs 8           70000000       140218711      297115976.0\n",
       "2018           Peppermint           25000000        35418723       51800758.0\n",
       "2019      Five Feet Apart            7000000        45729221       80504421.0\n",
       "2019         Dark Phoenix          350000000        42762350      149762350.0\n",
       "2019           Late Night            4000000          246305         246305.0\n",
       "\n",
       "[50 rows x 4 columns]"
      ]
     },
     "execution_count": 31,
     "metadata": {},
     "output_type": "execute_result"
    }
   ],
   "source": [
    "sample_yr = dw_gross[(dw_gross['Year'] >= 2015) & (dw_gross['Year'] <= 2020)].sort_values(by='Year')\n",
    "sample_yr.set_index('Year')\n",
    "#A 5 year timeframe was chosen to give a more recent outlook on the industry and scatter plots above. "
   ]
  },
  {
   "cell_type": "code",
   "execution_count": 44,
   "metadata": {},
   "outputs": [
    {
     "data": {
      "text/plain": [
       "production_budget    5.011550e+07\n",
       "domestic_gross       5.235042e+07\n",
       "worldwide_gross      1.386336e+08\n",
       "Year                 2.016500e+03\n",
       "dtype: float64"
      ]
     },
     "execution_count": 44,
     "metadata": {},
     "output_type": "execute_result"
    }
   ],
   "source": [
    "sample_yr.mean()\n",
    "#Total average per column."
   ]
  },
  {
   "cell_type": "code",
   "execution_count": 45,
   "metadata": {},
   "outputs": [
    {
     "data": {
      "text/plain": [
       "Year\n",
       "2015    1.675192e+07\n",
       "2016    5.573333e+07\n",
       "2017    5.300000e+07\n",
       "2018    6.140000e+07\n",
       "2019    1.203333e+08\n",
       "Name: production_budget, dtype: float64"
      ]
     },
     "execution_count": 45,
     "metadata": {},
     "output_type": "execute_result"
    }
   ],
   "source": [
    "mean_pro = sample_yr.groupby('Year')['production_budget'].mean()\n",
    "mean_pro\n",
    "#Creat a new df with the average budget per year. 2015 has the lowest budget average."
   ]
  },
  {
   "cell_type": "code",
   "execution_count": 46,
   "metadata": {},
   "outputs": [
    {
     "data": {
      "text/plain": [
       "Year\n",
       "2015    2.697149e+07\n",
       "2016    7.409522e+07\n",
       "2017    4.717462e+07\n",
       "2018    6.421541e+07\n",
       "2019    2.957929e+07\n",
       "Name: domestic_gross, dtype: float64"
      ]
     },
     "execution_count": 46,
     "metadata": {},
     "output_type": "execute_result"
    }
   ],
   "source": [
    "mean_dom = sample_yr.groupby('Year')['domestic_gross'].mean()\n",
    "mean_dom\n",
    "#Create a new df with the average domestic gross per year. 2019 was very successful. "
   ]
  },
  {
   "cell_type": "code",
   "execution_count": 47,
   "metadata": {},
   "outputs": [
    {
     "data": {
      "text/plain": [
       "Year\n",
       "2015    7.845130e+07\n",
       "2016    1.788591e+08\n",
       "2017    1.505959e+08\n",
       "2018    1.643050e+08\n",
       "2019    7.683769e+07\n",
       "Name: worldwide_gross, dtype: float64"
      ]
     },
     "execution_count": 47,
     "metadata": {},
     "output_type": "execute_result"
    }
   ],
   "source": [
    "mean_wor = sample_yr.groupby('Year')['worldwide_gross'].mean()\n",
    "mean_wor\n",
    "#Create a new df with the average worldwide gross per year. 2015-2018 worldwide gross are very proximate to each other."
   ]
  },
  {
   "cell_type": "code",
   "execution_count": 61,
   "metadata": {},
   "outputs": [
    {
     "data": {
      "image/png": "[encoded data removed]",
      "text/plain": [
       "<Figure size 432x288 with 1 Axes>"
      ]
     },
     "metadata": {
      "needs_background": "light"
     },
     "output_type": "display_data"
    }
   ],
   "source": [
    "barWidth = 0.25\n",
    "#Bar width\n",
    "\n",
    "r1 = np.arange(len(mean_pro))\n",
    "r2 = [x + barWidth for x in r1]\n",
    "r3 = [x + barWidth for x in r2]\n",
    "#Assign the position of bar on X axis\n",
    "\n",
    "plt.bar(r1, mean_pro, color='blue', width=barWidth, edgecolor='white', label='Prod. Budget')\n",
    "plt.bar(r2, mean_dom, color='orange', width=barWidth, edgecolor='white', label='Dom. Gross')\n",
    "plt.bar(r3, mean_wor, color='purple', width=barWidth, edgecolor='white', label='World. Gross')\n",
    "#Utilzing df created from the sample df means to create plot\n",
    "\n",
    "plt.xlabel('Year', fontweight='bold')\n",
    "plt.xticks([r + barWidth for r in range(len(mean_pro))], ['2015', '2016', '2017', '2018','2019'])\n",
    "#Add xticks on the middle of bars\n",
    "\n",
    "plt.ylabel('Average (in Millions)', fontweight='bold')\n",
    "\n",
    "plt.title('Average Budget vs Average Gross')\n",
    "\n",
    "plt.legend(loc=2)\n",
    "plt.show()\n",
    "#Show plot"
   ]
  },
  {
   "cell_type": "code",
   "execution_count": 50,
   "metadata": {
    "scrolled": true
   },
   "outputs": [
    {
     "data": {
      "text/plain": [
       "(367, 5)"
      ]
     },
     "execution_count": 50,
     "metadata": {},
     "output_type": "execute_result"
    }
   ],
   "source": [
    "mark1_gross = tn_budgets[(tn_budgets['domestic_gross'] == 0) & (tn_budgets['worldwide_gross'] == 0 )].sort_values(by='Year')\n",
    "mark1_gross.shape"
   ]
  },
  {
   "cell_type": "code",
   "execution_count": 51,
   "metadata": {
    "scrolled": true
   },
   "outputs": [
    {
     "data": {
      "text/plain": [
       "(188, 5)"
      ]
     },
     "execution_count": 51,
     "metadata": {},
     "output_type": "execute_result"
    }
   ],
   "source": [
    "zero_gross = mark1_gross.sample(n=188, replace = False, random_state = 188)\n",
    "zero_gross.shape\n",
    "#I choose a sample size of 188 based on research on the best sample size for this amount of data"
   ]
  },
  {
   "cell_type": "code",
   "execution_count": 52,
   "metadata": {},
   "outputs": [
    {
     "data": {
      "text/plain": [
       "<matplotlib.axes._subplots.AxesSubplot at 0x150e17b1eb8>"
      ]
     },
     "execution_count": 52,
     "metadata": {},
     "output_type": "execute_result"
    },
    {
     "data": {
      "image/png": "[encoded data removed]",
      "text/plain": [
       "<Figure size 432x288 with 1 Axes>"
      ]
     },
     "metadata": {
      "needs_background": "light"
     },
     "output_type": "display_data"
    }
   ],
   "source": [
    "zero_gross.plot(kind='scatter', x='Year', y='production_budget', color='red')\n",
    "#The scatter plot shows a large amount of data is located between 2000-2020. Lets investigate that area a bit more!"
   ]
  },
  {
   "cell_type": "code",
   "execution_count": 53,
   "metadata": {},
   "outputs": [
    {
     "data": {
      "text/plain": [
       "Year\n",
       "2015    2.429285e+06\n",
       "2016    5.320000e+06\n",
       "2017    7.050000e+06\n",
       "2018    1.993567e+07\n",
       "2019    3.945500e+07\n",
       "2020    1.000000e+08\n",
       "Name: production_budget, dtype: float64"
      ]
     },
     "execution_count": 53,
     "metadata": {},
     "output_type": "execute_result"
    }
   ],
   "source": [
    "zero_yr = zero_gross[(zero_gross['Year'] >= 2015) & (zero_gross['Year'] <= 2020)].sort_values(by='Year')\n",
    "zero_yr.groupby('Year')['production_budget'].mean()\n",
    "#A 5 year timeframe was chosen to give a more recent outlook on the industry and scatter plot above."
   ]
  },
  {
   "cell_type": "code",
   "execution_count": 54,
   "metadata": {},
   "outputs": [
    {
     "data": {
      "text/plain": [
       "production_budget    1.159625e+07\n",
       "domestic_gross       0.000000e+00\n",
       "worldwide_gross      0.000000e+00\n",
       "Year                 2.016014e+03\n",
       "dtype: float64"
      ]
     },
     "execution_count": 54,
     "metadata": {},
     "output_type": "execute_result"
    }
   ],
   "source": [
    "zero_yr.mean()"
   ]
  },
  {
   "cell_type": "code",
   "execution_count": 55,
   "metadata": {
    "scrolled": true
   },
   "outputs": [
    {
     "data": {
      "text/plain": [
       "Text(0.5, 1.0, 'The Average Budget for Zero Revenue')"
      ]
     },
     "execution_count": 55,
     "metadata": {},
     "output_type": "execute_result"
    },
    {
     "data": {
      "image/png": "[encoded data removed]",
      "text/plain": [
       "<Figure size 1080x576 with 1 Axes>"
      ]
     },
     "metadata": {
      "needs_background": "light"
     },
     "output_type": "display_data"
    }
   ],
   "source": [
    "zero_yr.groupby('Year')['production_budget'].mean().sort_values().plot(kind='bar', figsize=(15,8))\n",
    "plt.ylabel('Budget (in Millions)')\n",
    "plt.legend('Budget')\n",
    "plt.title('The Average Budget for Zero Revenue')\n",
    "#Based on the graph, there movies had fairly large budgets however did not gain any revenue. "
   ]
  }
 ],
 "metadata": {
  "kernelspec": {
   "display_name": "Python 3",
   "language": "python",
   "name": "python3"
  },
  "language_info": {
   "codemirror_mode": {
    "name": "ipython",
    "version": 3
   },
   "file_extension": ".py",
   "mimetype": "text/x-python",
   "name": "python",
   "nbconvert_exporter": "python",
   "pygments_lexer": "ipython3",
   "version": "3.6.9"
  }
 },
 "nbformat": 4,
 "nbformat_minor": 2
}
