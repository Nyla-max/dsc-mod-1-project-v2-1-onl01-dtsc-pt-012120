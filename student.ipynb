{
 "cells": [
  {
   "cell_type": "markdown",
   "metadata": {},
   "source": [
    "## Final Project Submission\n",
    "\n",
    "Please fill out:\n",
    "* Student name: Nyla Duperval\n",
    "* Student pace: Part Time\n",
    "* Scheduled project review date/time: \n",
    "* Instructor name: Victor Geislinger\n",
    "* Blog post URL:"
   ]
  },
  {
   "cell_type": "markdown",
   "metadata": {},
   "source": [
    "## Lights, Camera, ACTION! "
   ]
  },
  {
   "cell_type": "markdown",
   "metadata": {},
   "source": [
    "Since the 1890s, the film industry has provided a gateway to learning, communion and exploration. With the advancement of technology, the film industry has changed specifically the monetary input. A successful file requires a sucessful a team of writers, cinematographers, editors etc. To determine if Microsoft should enter the film industry, lets take a look at how much does it will cost to make a successful movie. Success will be determined by the comparison of production budget and gross(domestic & worldwide)."
   ]
  },
  {
   "cell_type": "code",
   "execution_count": 128,
   "metadata": {},
   "outputs": [],
   "source": [
    "# Your code here - remember to use markdown cells for comments as well!\n",
    "import numpy as np\n",
    "import pandas as pd\n",
    "import matplotlib.pyplot as plt\n",
    "%matplotlib inline"
   ]
  },
  {
   "cell_type": "code",
   "execution_count": 129,
   "metadata": {},
   "outputs": [],
   "source": [
    "tn_budgets = pd.read_csv('zippedData/tn.movie_budgets.csv.gz') "
   ]
  },
  {
   "cell_type": "markdown",
   "metadata": {},
   "source": [
    "## Data Cleaning"
   ]
  },
  {
   "cell_type": "markdown",
   "metadata": {},
   "source": [
    "First, I have cleaned the data within the dataframe imported. I created a column to specify only the year of a movie release for easier indexing. I also removed the column 'id' and 'release_date'. The dataset did not have any NaN values. I checked for duplicates which showed movies with similar or the same movie title but we're release different years. Within the movie industry, movie remakes are common and can have very large timeframes. "
   ]
  },
  {
   "cell_type": "code",
   "execution_count": 130,
   "metadata": {},
   "outputs": [
    {
     "data": {
      "text/plain": [
       "(5782, 6)"
      ]
     },
     "execution_count": 130,
     "metadata": {},
     "output_type": "execute_result"
    }
   ],
   "source": [
    "tn_budgets.shape"
   ]
  },
  {
   "cell_type": "code",
   "execution_count": 131,
   "metadata": {},
   "outputs": [
    {
     "data": {
      "text/plain": [
       "id                    int64\n",
       "release_date         object\n",
       "movie                object\n",
       "production_budget    object\n",
       "domestic_gross       object\n",
       "worldwide_gross      object\n",
       "dtype: object"
      ]
     },
     "execution_count": 131,
     "metadata": {},
     "output_type": "execute_result"
    }
   ],
   "source": [
    "tn_budgets.dtypes"
   ]
  },
  {
   "cell_type": "code",
   "execution_count": 132,
   "metadata": {},
   "outputs": [],
   "source": [
    "tn_budgets['production_budget'] = tn_budgets['production_budget'].str.replace(',', '').str.replace('$', '').astype(int)\n",
    "tn_budgets['domestic_gross'] = tn_budgets['domestic_gross'].str.replace(',', '').str.replace('$', '').astype(int)\n",
    "tn_budgets['worldwide_gross'] = tn_budgets['worldwide_gross'].str.replace(',', '').str.replace('$', '').astype(float)\n",
    "#Changed dtype for monetary sections"
   ]
  },
  {
   "cell_type": "code",
   "execution_count": 7,
   "metadata": {},
   "outputs": [],
   "source": [
    "tn_budgets['release_date'] = tn_budgets['release_date'].str.replace(',', '')\n",
    "tn_budgets['release_date'] = pd.to_datetime(tn_budgets['release_date'])\n",
    "tn_budgets['Year'] = tn_budgets['release_date'].dt.year\n",
    "#Changed dtype and created new column"
   ]
  },
  {
   "cell_type": "code",
   "execution_count": 8,
   "metadata": {},
   "outputs": [],
   "source": [
    "tn_budgets = tn_budgets.drop('id', axis=1)\n",
    "tn_budgets = tn_budgets.drop('release_date',1)"
   ]
  },
  {
   "cell_type": "code",
   "execution_count": 9,
   "metadata": {},
   "outputs": [
    {
     "data": {
      "text/plain": [
       "movie                 object\n",
       "production_budget      int32\n",
       "domestic_gross         int32\n",
       "worldwide_gross      float64\n",
       "Year                   int64\n",
       "dtype: object"
      ]
     },
     "execution_count": 9,
     "metadata": {},
     "output_type": "execute_result"
    }
   ],
   "source": [
    "tn_budgets.dtypes"
   ]
  },
  {
   "cell_type": "code",
   "execution_count": 10,
   "metadata": {},
   "outputs": [
    {
     "data": {
      "text/html": [
       "<div>\n",
       "<style scoped>\n",
       "    .dataframe tbody tr th:only-of-type {\n",
       "        vertical-align: middle;\n",
       "    }\n",
       "\n",
       "    .dataframe tbody tr th {\n",
       "        vertical-align: top;\n",
       "    }\n",
       "\n",
       "    .dataframe thead th {\n",
       "        text-align: right;\n",
       "    }\n",
       "</style>\n",
       "<table border=\"1\" class=\"dataframe\">\n",
       "  <thead>\n",
       "    <tr style=\"text-align: right;\">\n",
       "      <th></th>\n",
       "      <th>movie</th>\n",
       "      <th>production_budget</th>\n",
       "      <th>domestic_gross</th>\n",
       "      <th>worldwide_gross</th>\n",
       "      <th>Year</th>\n",
       "    </tr>\n",
       "  </thead>\n",
       "  <tbody>\n",
       "    <tr>\n",
       "      <td>5614</td>\n",
       "      <td>20,000 Leagues Under the Sea</td>\n",
       "      <td>200000</td>\n",
       "      <td>8000000</td>\n",
       "      <td>8000000.0</td>\n",
       "      <td>1916</td>\n",
       "    </tr>\n",
       "    <tr>\n",
       "      <td>5016</td>\n",
       "      <td>A Nightmare on Elm Street</td>\n",
       "      <td>1800000</td>\n",
       "      <td>25504513</td>\n",
       "      <td>25504513.0</td>\n",
       "      <td>1984</td>\n",
       "    </tr>\n",
       "    <tr>\n",
       "      <td>2032</td>\n",
       "      <td>Aladdin</td>\n",
       "      <td>28000000</td>\n",
       "      <td>217350219</td>\n",
       "      <td>504050219.0</td>\n",
       "      <td>1992</td>\n",
       "    </tr>\n",
       "    <tr>\n",
       "      <td>4759</td>\n",
       "      <td>Alice in Wonderland</td>\n",
       "      <td>3000000</td>\n",
       "      <td>0</td>\n",
       "      <td>0.0</td>\n",
       "      <td>1951</td>\n",
       "    </tr>\n",
       "    <tr>\n",
       "      <td>4120</td>\n",
       "      <td>Around the World in 80 Days</td>\n",
       "      <td>6000000</td>\n",
       "      <td>42000000</td>\n",
       "      <td>42000000.0</td>\n",
       "      <td>1956</td>\n",
       "    </tr>\n",
       "    <tr>\n",
       "      <td>...</td>\n",
       "      <td>...</td>\n",
       "      <td>...</td>\n",
       "      <td>...</td>\n",
       "      <td>...</td>\n",
       "      <td>...</td>\n",
       "    </tr>\n",
       "    <tr>\n",
       "      <td>5330</td>\n",
       "      <td>Trance</td>\n",
       "      <td>950000</td>\n",
       "      <td>0</td>\n",
       "      <td>0.0</td>\n",
       "      <td>2012</td>\n",
       "    </tr>\n",
       "    <tr>\n",
       "      <td>1588</td>\n",
       "      <td>Twilight</td>\n",
       "      <td>37000000</td>\n",
       "      <td>192769854</td>\n",
       "      <td>402280159.0</td>\n",
       "      <td>2008</td>\n",
       "    </tr>\n",
       "    <tr>\n",
       "      <td>2838</td>\n",
       "      <td>Unforgettable</td>\n",
       "      <td>18000000</td>\n",
       "      <td>2483790</td>\n",
       "      <td>2483790.0</td>\n",
       "      <td>1996</td>\n",
       "    </tr>\n",
       "    <tr>\n",
       "      <td>4583</td>\n",
       "      <td>Unknown</td>\n",
       "      <td>3700000</td>\n",
       "      <td>26403</td>\n",
       "      <td>3355048.0</td>\n",
       "      <td>2006</td>\n",
       "    </tr>\n",
       "    <tr>\n",
       "      <td>302</td>\n",
       "      <td>Venom</td>\n",
       "      <td>116000000</td>\n",
       "      <td>213511408</td>\n",
       "      <td>853628605.0</td>\n",
       "      <td>2018</td>\n",
       "    </tr>\n",
       "  </tbody>\n",
       "</table>\n",
       "<p>84 rows × 5 columns</p>\n",
       "</div>"
      ],
      "text/plain": [
       "                             movie  production_budget  domestic_gross  \\\n",
       "5614  20,000 Leagues Under the Sea             200000         8000000   \n",
       "5016     A Nightmare on Elm Street            1800000        25504513   \n",
       "2032                       Aladdin           28000000       217350219   \n",
       "4759           Alice in Wonderland            3000000               0   \n",
       "4120   Around the World in 80 Days            6000000        42000000   \n",
       "...                            ...                ...             ...   \n",
       "5330                        Trance             950000               0   \n",
       "1588                      Twilight           37000000       192769854   \n",
       "2838                 Unforgettable           18000000         2483790   \n",
       "4583                       Unknown            3700000           26403   \n",
       "302                          Venom          116000000       213511408   \n",
       "\n",
       "      worldwide_gross  Year  \n",
       "5614        8000000.0  1916  \n",
       "5016       25504513.0  1984  \n",
       "2032      504050219.0  1992  \n",
       "4759              0.0  1951  \n",
       "4120       42000000.0  1956  \n",
       "...               ...   ...  \n",
       "5330              0.0  2012  \n",
       "1588      402280159.0  2008  \n",
       "2838        2483790.0  1996  \n",
       "4583        3355048.0  2006  \n",
       "302       853628605.0  2018  \n",
       "\n",
       "[84 rows x 5 columns]"
      ]
     },
     "execution_count": 10,
     "metadata": {},
     "output_type": "execute_result"
    }
   ],
   "source": [
    "pd.set_option('display.max_rows',10)\n",
    "tn_budgets.sort_values('movie', inplace=True)\n",
    "bool_series = tn_budgets['movie'].duplicated()\n",
    "tn_budgets[bool_series]\n",
    "#There were no dupicate movies however duplicate names. They may be remakes or movies created with same name but different plots"
   ]
  },
  {
   "cell_type": "code",
   "execution_count": 11,
   "metadata": {},
   "outputs": [
    {
     "data": {
      "text/plain": [
       "movie                0\n",
       "production_budget    0\n",
       "domestic_gross       0\n",
       "worldwide_gross      0\n",
       "Year                 0\n",
       "dtype: int64"
      ]
     },
     "execution_count": 11,
     "metadata": {},
     "output_type": "execute_result"
    }
   ],
   "source": [
    "tn_budgets.isna().sum()\n",
    "#All columns show no NaN values "
   ]
  },
  {
   "cell_type": "code",
   "execution_count": 12,
   "metadata": {},
   "outputs": [
    {
     "data": {
      "text/plain": [
       "Text(0.5, 0, 'Production Budget')"
      ]
     },
     "execution_count": 12,
     "metadata": {},
     "output_type": "execute_result"
    },
    {
     "data": {
      "image/png": "[encoded data removed]",
      "text/plain": [
       "<Figure size 1080x576 with 1 Axes>"
      ]
     },
     "metadata": {
      "needs_background": "light"
     },
     "output_type": "display_data"
    }
   ],
   "source": [
    "tn_budgets.groupby(['Year'])['production_budget'].mean().sort_values().plot(kind='barh', figsize=(15,8))\n",
    "plt.title('Movie Production Budget')\n",
    "plt.xlabel('Production Budget')\n",
    "#From this graph we can see as time passes the average amount of production budgets also increase. Lets dig a little deeper!"
   ]
  },
  {
   "cell_type": "markdown",
   "metadata": {},
   "source": [
    "## Data Exploration "
   ]
  },
  {
   "cell_type": "markdown",
   "metadata": {},
   "source": [
    "Through my exploration of the data, I separated my data into two focus groups: \n",
    "    Focus group 1: Movies with a domestic and worldwide gross\n",
    "    Focus group 2: Movies without a domestic and worldwide gross\n",
    "\n",
    "I thought this was important to seperate in order to compare the budgets to those whom gained revenue and those whom did not. The first focus group showed a large dataset of 5234 movies while the second focus group showed 367 movies. Based on this information, there were more movies with a form of revenue than those without any earned. Since the technological advancements that have occurred rapidly within the movie industry, I decided to focus on last 5 years to gather an accurate picture of the industry today. "
   ]
  },
  {
   "cell_type": "code",
   "execution_count": 13,
   "metadata": {},
   "outputs": [
    {
     "data": {
      "text/plain": [
       "(5234, 5)"
      ]
     },
     "execution_count": 13,
     "metadata": {},
     "output_type": "execute_result"
    }
   ],
   "source": [
    "mark_gross = tn_budgets[(tn_budgets['domestic_gross'] > 0) & (tn_budgets['worldwide_gross'] > 0)].sort_values(by='Year')\n",
    "mark_gross.shape\n"
   ]
  },
  {
   "cell_type": "code",
   "execution_count": 14,
   "metadata": {
    "scrolled": true
   },
   "outputs": [
    {
     "data": {
      "text/plain": [
       "(358, 5)"
      ]
     },
     "execution_count": 14,
     "metadata": {},
     "output_type": "execute_result"
    }
   ],
   "source": [
    "dw_gross = mark_gross.sample(n=358, replace = False)\n",
    "dw_gross.shape\n",
    "#I choose a sample size of 358 based on research on the best sample size for this amount of data"
   ]
  },
  {
   "cell_type": "code",
   "execution_count": 15,
   "metadata": {},
   "outputs": [
    {
     "data": {
      "image/png": "[encoded data removed]",
      "text/plain": [
       "<Figure size 432x288 with 1 Axes>"
      ]
     },
     "metadata": {
      "needs_background": "light"
     },
     "output_type": "display_data"
    }
   ],
   "source": [
    "dw_gross.plot(kind='scatter', x='Year', y='production_budget', color='blue')\n",
    "plt.show()"
   ]
  },
  {
   "cell_type": "code",
   "execution_count": 16,
   "metadata": {},
   "outputs": [
    {
     "data": {
      "text/plain": [
       "<matplotlib.axes._subplots.AxesSubplot at 0x2217a9063c8>"
      ]
     },
     "execution_count": 16,
     "metadata": {},
     "output_type": "execute_result"
    },
    {
     "data": {
      "image/png": "[encoded data removed]",
      "text/plain": [
       "<Figure size 432x288 with 1 Axes>"
      ]
     },
     "metadata": {
      "needs_background": "light"
     },
     "output_type": "display_data"
    }
   ],
   "source": [
    "dw_gross.plot(kind='scatter', x='Year', y='domestic_gross',color='blue')"
   ]
  },
  {
   "cell_type": "code",
   "execution_count": 17,
   "metadata": {},
   "outputs": [
    {
     "data": {
      "text/plain": [
       "<matplotlib.axes._subplots.AxesSubplot at 0x2217a965ac8>"
      ]
     },
     "execution_count": 17,
     "metadata": {},
     "output_type": "execute_result"
    },
    {
     "data": {
      "image/png": "[encoded data removed]",
      "text/plain": [
       "<Figure size 432x288 with 1 Axes>"
      ]
     },
     "metadata": {
      "needs_background": "light"
     },
     "output_type": "display_data"
    }
   ],
   "source": [
    "dw_gross.plot(kind='scatter', x='Year', y='worldwide_gross',color='blue')"
   ]
  },
  {
   "cell_type": "code",
   "execution_count": 104,
   "metadata": {},
   "outputs": [
    {
     "data": {
      "text/html": [
       "<div>\n",
       "<style scoped>\n",
       "    .dataframe tbody tr th:only-of-type {\n",
       "        vertical-align: middle;\n",
       "    }\n",
       "\n",
       "    .dataframe tbody tr th {\n",
       "        vertical-align: top;\n",
       "    }\n",
       "\n",
       "    .dataframe thead th {\n",
       "        text-align: right;\n",
       "    }\n",
       "</style>\n",
       "<table border=\"1\" class=\"dataframe\">\n",
       "  <thead>\n",
       "    <tr style=\"text-align: right;\">\n",
       "      <th></th>\n",
       "      <th>movie</th>\n",
       "      <th>production_budget</th>\n",
       "      <th>domestic_gross</th>\n",
       "      <th>worldwide_gross</th>\n",
       "    </tr>\n",
       "    <tr>\n",
       "      <th>Year</th>\n",
       "      <th></th>\n",
       "      <th></th>\n",
       "      <th></th>\n",
       "      <th></th>\n",
       "    </tr>\n",
       "  </thead>\n",
       "  <tbody>\n",
       "    <tr>\n",
       "      <td>2015</td>\n",
       "      <td>The Martian</td>\n",
       "      <td>108000000</td>\n",
       "      <td>228433663</td>\n",
       "      <td>655271443.0</td>\n",
       "    </tr>\n",
       "    <tr>\n",
       "      <td>2015</td>\n",
       "      <td>Legend</td>\n",
       "      <td>25000000</td>\n",
       "      <td>1872994</td>\n",
       "      <td>42425450.0</td>\n",
       "    </tr>\n",
       "    <tr>\n",
       "      <td>2015</td>\n",
       "      <td>Saul fia</td>\n",
       "      <td>1700000</td>\n",
       "      <td>1777043</td>\n",
       "      <td>9696537.0</td>\n",
       "    </tr>\n",
       "    <tr>\n",
       "      <td>2015</td>\n",
       "      <td>The Second Best Exotic Marigold Hotel</td>\n",
       "      <td>10000000</td>\n",
       "      <td>33078266</td>\n",
       "      <td>90384306.0</td>\n",
       "    </tr>\n",
       "    <tr>\n",
       "      <td>2015</td>\n",
       "      <td>The Water Diviner</td>\n",
       "      <td>22500000</td>\n",
       "      <td>4200117</td>\n",
       "      <td>31054727.0</td>\n",
       "    </tr>\n",
       "    <tr>\n",
       "      <td>...</td>\n",
       "      <td>...</td>\n",
       "      <td>...</td>\n",
       "      <td>...</td>\n",
       "      <td>...</td>\n",
       "    </tr>\n",
       "    <tr>\n",
       "      <td>2018</td>\n",
       "      <td>Skyscraper</td>\n",
       "      <td>125000000</td>\n",
       "      <td>68420120</td>\n",
       "      <td>304115534.0</td>\n",
       "    </tr>\n",
       "    <tr>\n",
       "      <td>2018</td>\n",
       "      <td>Mary Queen of Scots</td>\n",
       "      <td>25000000</td>\n",
       "      <td>16468499</td>\n",
       "      <td>46734733.0</td>\n",
       "    </tr>\n",
       "    <tr>\n",
       "      <td>2019</td>\n",
       "      <td>Shazam!</td>\n",
       "      <td>85000000</td>\n",
       "      <td>139606856</td>\n",
       "      <td>362899733.0</td>\n",
       "    </tr>\n",
       "    <tr>\n",
       "      <td>2019</td>\n",
       "      <td>Godzilla: King of the Monsters</td>\n",
       "      <td>170000000</td>\n",
       "      <td>85576941</td>\n",
       "      <td>299276941.0</td>\n",
       "    </tr>\n",
       "    <tr>\n",
       "      <td>2019</td>\n",
       "      <td>Us</td>\n",
       "      <td>20000000</td>\n",
       "      <td>175006930</td>\n",
       "      <td>254210310.0</td>\n",
       "    </tr>\n",
       "  </tbody>\n",
       "</table>\n",
       "<p>52 rows × 4 columns</p>\n",
       "</div>"
      ],
      "text/plain": [
       "                                      movie  production_budget  \\\n",
       "Year                                                             \n",
       "2015                            The Martian          108000000   \n",
       "2015                                 Legend           25000000   \n",
       "2015                               Saul fia            1700000   \n",
       "2015  The Second Best Exotic Marigold Hotel           10000000   \n",
       "2015                      The Water Diviner           22500000   \n",
       "...                                     ...                ...   \n",
       "2018                             Skyscraper          125000000   \n",
       "2018                    Mary Queen of Scots           25000000   \n",
       "2019                                Shazam!           85000000   \n",
       "2019         Godzilla: King of the Monsters          170000000   \n",
       "2019                                     Us           20000000   \n",
       "\n",
       "      domestic_gross  worldwide_gross  \n",
       "Year                                   \n",
       "2015       228433663      655271443.0  \n",
       "2015         1872994       42425450.0  \n",
       "2015         1777043        9696537.0  \n",
       "2015        33078266       90384306.0  \n",
       "2015         4200117       31054727.0  \n",
       "...              ...              ...  \n",
       "2018        68420120      304115534.0  \n",
       "2018        16468499       46734733.0  \n",
       "2019       139606856      362899733.0  \n",
       "2019        85576941      299276941.0  \n",
       "2019       175006930      254210310.0  \n",
       "\n",
       "[52 rows x 4 columns]"
      ]
     },
     "execution_count": 104,
     "metadata": {},
     "output_type": "execute_result"
    }
   ],
   "source": [
    "sample_yr = dw_gross[(dw_gross['Year'] >= 2015) & (dw_gross['Year'] <= 2020)].sort_values(by='Year')\n",
    "sample_yr.set_index('Year')\n",
    "#A 5 year timeframe was chosen to give a more recent outlook on the industry. "
   ]
  },
  {
   "cell_type": "code",
   "execution_count": 126,
   "metadata": {},
   "outputs": [
    {
     "data": {
      "text/plain": [
       "production_budget    4.754904e+07\n",
       "domestic_gross       6.965881e+07\n",
       "worldwide_gross      1.772361e+08\n",
       "Year                 2.016385e+03\n",
       "dtype: float64"
      ]
     },
     "execution_count": 126,
     "metadata": {},
     "output_type": "execute_result"
    }
   ],
   "source": [
    "sample_yr.mean()"
   ]
  },
  {
   "cell_type": "code",
   "execution_count": 106,
   "metadata": {},
   "outputs": [
    {
     "data": {
      "text/plain": [
       "Year\n",
       "2015    3.022917e+07\n",
       "2016    4.634286e+07\n",
       "2017    5.691111e+07\n",
       "2018    4.991429e+07\n",
       "2019    9.166667e+07\n",
       "Name: production_budget, dtype: float64"
      ]
     },
     "execution_count": 106,
     "metadata": {},
     "output_type": "execute_result"
    }
   ],
   "source": [
    "mean_pro = sample_yr.groupby('Year')['production_budget'].mean()\n",
    "mean_pro\n",
    "#I created a new df with the average budget per year. 2015 has the lowest budget average."
   ]
  },
  {
   "cell_type": "code",
   "execution_count": 107,
   "metadata": {},
   "outputs": [
    {
     "data": {
      "text/plain": [
       "Year\n",
       "2015    5.918557e+07\n",
       "2016    7.052614e+07\n",
       "2017    6.524109e+07\n",
       "2018    6.337457e+07\n",
       "2019    1.333969e+08\n",
       "Name: domestic_gross, dtype: float64"
      ]
     },
     "execution_count": 107,
     "metadata": {},
     "output_type": "execute_result"
    }
   ],
   "source": [
    "mean_dom = sample_yr.groupby('Year')['domestic_gross'].mean()\n",
    "mean_dom\n",
    "#I created a new df with the average domestic gross per year. 2019 was very successful. "
   ]
  },
  {
   "cell_type": "code",
   "execution_count": 108,
   "metadata": {},
   "outputs": [
    {
     "data": {
      "text/plain": [
       "Year\n",
       "2015    1.447946e+08\n",
       "2016    1.752759e+08\n",
       "2017    1.929026e+08\n",
       "2018    1.636344e+08\n",
       "2019    3.054623e+08\n",
       "Name: worldwide_gross, dtype: float64"
      ]
     },
     "execution_count": 108,
     "metadata": {},
     "output_type": "execute_result"
    }
   ],
   "source": [
    "mean_wor = sample_yr.groupby('Year')['worldwide_gross'].mean()\n",
    "mean_wor\n",
    "#I created a new df with the average worldwide gross per year. 2015-2018 worldwide gross are very proximate to each other."
   ]
  },
  {
   "cell_type": "code",
   "execution_count": 115,
   "metadata": {},
   "outputs": [
    {
     "data": {
      "image/png": "[encoded data removed]",
      "text/plain": [
       "<Figure size 432x288 with 1 Axes>"
      ]
     },
     "metadata": {
      "needs_background": "light"
     },
     "output_type": "display_data"
    }
   ],
   "source": [
    "barWidth = 0.25\n",
    "#Bar width\n",
    "\n",
    "r1 = np.arange(len(mean_pro))\n",
    "r2 = [x + barWidth for x in r1]\n",
    "r3 = [x + barWidth for x in r2]\n",
    "#Assign the position of bar on X axis\n",
    "\n",
    "plt.bar(r1, mean_pro, color='blue', width=barWidth, edgecolor='white', label='Production Budget')\n",
    "plt.bar(r2, mean_dom, color='orange', width=barWidth, edgecolor='white', label='Domestic Gross')\n",
    "plt.bar(r3, mean_wor, color='purple', width=barWidth, edgecolor='white', label='Worldwide Gross')\n",
    "#Utilzing df created from the sample df means to create plot\n",
    "\n",
    "plt.xlabel('Year', fontweight='bold')\n",
    "plt.xticks([r + barWidth for r in range(len(mean_pro))], ['2015', '2016', '2017', '2018','2019'])\n",
    "#Add xticks on the middle of bars\n",
    "\n",
    "plt.ylabel('Average (in Millions)', fontweight='bold')\n",
    "\n",
    "plt.title('Average Budget vs Average Gross')\n",
    "\n",
    "plt.legend()\n",
    "plt.show()\n",
    "#Show plot"
   ]
  },
  {
   "cell_type": "code",
   "execution_count": 117,
   "metadata": {
    "scrolled": true
   },
   "outputs": [
    {
     "data": {
      "text/plain": [
       "(367, 5)"
      ]
     },
     "execution_count": 117,
     "metadata": {},
     "output_type": "execute_result"
    }
   ],
   "source": [
    "mark1_gross = tn_budgets[(tn_budgets['domestic_gross'] == 0) & (tn_budgets['worldwide_gross'] == 0 )].sort_values(by='Year')\n",
    "mark1_gross.shape"
   ]
  },
  {
   "cell_type": "code",
   "execution_count": 118,
   "metadata": {
    "scrolled": true
   },
   "outputs": [
    {
     "data": {
      "text/plain": [
       "(188, 5)"
      ]
     },
     "execution_count": 118,
     "metadata": {},
     "output_type": "execute_result"
    }
   ],
   "source": [
    "zero_gross = mark1_gross.sample(n=188, replace = False, random_state = 188)\n",
    "zero_gross.shape\n",
    "#I choose a sample size of 188 based on research on the best sample size for this amount of data"
   ]
  },
  {
   "cell_type": "code",
   "execution_count": 119,
   "metadata": {},
   "outputs": [
    {
     "data": {
      "text/plain": [
       "<matplotlib.axes._subplots.AxesSubplot at 0x2217fdde390>"
      ]
     },
     "execution_count": 119,
     "metadata": {},
     "output_type": "execute_result"
    },
    {
     "data": {
      "image/png": "[encoded data removed]",
      "text/plain": [
       "<Figure size 432x288 with 1 Axes>"
      ]
     },
     "metadata": {
      "needs_background": "light"
     },
     "output_type": "display_data"
    }
   ],
   "source": [
    "zero_gross.plot(kind='scatter', x='Year', y='production_budget', color='red')\n",
    "#The scatter plot shows a large amount of data is located between 2000-2020. Lets investigate that area a bit more!"
   ]
  },
  {
   "cell_type": "code",
   "execution_count": 120,
   "metadata": {},
   "outputs": [
    {
     "data": {
      "text/plain": [
       "Year\n",
       "2015    2.429285e+06\n",
       "2016    5.320000e+06\n",
       "2017    7.050000e+06\n",
       "2018    1.993567e+07\n",
       "2019    3.945500e+07\n",
       "2020    1.000000e+08\n",
       "Name: production_budget, dtype: float64"
      ]
     },
     "execution_count": 120,
     "metadata": {},
     "output_type": "execute_result"
    }
   ],
   "source": [
    "zero_yr = zero_gross[(zero_gross['Year'] >= 2015) & (zero_gross['Year'] <= 2020)].sort_values(by='Year')\n",
    "zero_yr.groupby('Year')['production_budget'].mean()\n",
    "#A 5 year timeframe was chosen to give a more recent outlook on the industry."
   ]
  },
  {
   "cell_type": "code",
   "execution_count": 123,
   "metadata": {},
   "outputs": [
    {
     "data": {
      "text/plain": [
       "Text(0.5, 1.0, 'The Average Budget for Zero Revenue')"
      ]
     },
     "execution_count": 123,
     "metadata": {},
     "output_type": "execute_result"
    },
    {
     "data": {
      "image/png": "[encoded data removed]",
      "text/plain": [
       "<Figure size 1080x576 with 1 Axes>"
      ]
     },
     "metadata": {
      "needs_background": "light"
     },
     "output_type": "display_data"
    }
   ],
   "source": [
    "zero_yr.groupby('Year')['production_budget'].mean().sort_values().plot(kind='bar', figsize=(15,8))\n",
    "plt.ylabel('Budget (in Millions)')\n",
    "plt.legend('Budget')\n",
    "plt.title('The Average Budget for Zero Revenue')\n",
    "#Based on the graph, there movies had fairly large budgets however did not gain any revenue. "
   ]
  },
  {
   "cell_type": "markdown",
   "metadata": {},
   "source": [
    "## Conclusion"
   ]
  },
  {
   "cell_type": "markdown",
   "metadata": {},
   "source": [
    "Based on my exploration, worldwide gross was substanial higher than production budgets. However, there was a small margin between production budgets and domestic gross. This can suggest within the United States there is a decrease in movie-goers or other outside factors. The largest average budget in focus group 1 was approximately 91 million dollars while the lowest average budget was approximately 30 million dollars. In focus group 2, the largest average budget was approximately 100 millions dollars and the lowest average budget was approximately. \n",
    "\n",
    "My recommendation is pursing a business venture into the movie industry is good venture to pursue. The movie industry is a lucrative business even though our world is increasing virtual content. Film award shows and festivals are held every year around global even as streaming sites become popular. I will also recommend further research into determining possible risk factors, such as streaming sites, affects on domestic gross and determining if these factors can have a positive or negative affect in the near future. "
   ]
  }
 ],
 "metadata": {
  "kernelspec": {
   "display_name": "Python 3",
   "language": "python",
   "name": "python3"
  },
  "language_info": {
   "codemirror_mode": {
    "name": "ipython",
    "version": 3
   },
   "file_extension": ".py",
   "mimetype": "text/x-python",
   "name": "python",
   "nbconvert_exporter": "python",
   "pygments_lexer": "ipython3",
   "version": "3.6.9"
  }
 },
 "nbformat": 4,
 "nbformat_minor": 2
}
