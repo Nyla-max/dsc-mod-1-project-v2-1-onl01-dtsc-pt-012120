{
 "cells": [
  {
   "cell_type": "markdown",
   "metadata": {},
   "source": [
    "## Final Project Submission\n",
    "\n",
    "Please fill out:\n",
    "* Student name: Nyla Duperval\n",
    "* Student pace: Part Time\n",
    "* Scheduled project review date/time: \n",
    "* Instructor name: Victor Geislinger\n",
    "* Blog post URL:"
   ]
  },
  {
   "cell_type": "markdown",
   "metadata": {},
   "source": [
    "Lights, Camera, ACTION! \n",
    "\n",
    "Since the 1890s, the film industry has provided a gateway to learning, communion and exploration. With the advancement of technology, the film industry has changed specifically the monetary input. A successful file requires a sucessful a team of writers, cinematographers, editors etc. To determine if Microsoft should enter the film industry, lets take a look at how much does it will cost to make a successful movie. Success will be determined by the comparison of production budget and gross(domestic & worldwide). "
   ]
  },
  {
   "cell_type": "code",
   "execution_count": 51,
   "metadata": {},
   "outputs": [],
   "source": [
    "# Your code here - remember to use markdown cells for comments as well!\n",
    "import numpy as np\n",
    "import pandas as pd\n",
    "import matplotlib.pyplot as plt\n",
    "%matplotlib inline"
   ]
  },
  {
   "cell_type": "code",
   "execution_count": 52,
   "metadata": {},
   "outputs": [],
   "source": [
    "tn_budgets = pd.read_csv('zippedData/tn.movie_budgets.csv.gz', index_col='movie') "
   ]
  },
  {
   "cell_type": "markdown",
   "metadata": {},
   "source": [
    "Data Cleaning"
   ]
  },
  {
   "cell_type": "code",
   "execution_count": 53,
   "metadata": {},
   "outputs": [
    {
     "data": {
      "text/plain": [
       "id                    int64\n",
       "release_date         object\n",
       "production_budget    object\n",
       "domestic_gross       object\n",
       "worldwide_gross      object\n",
       "dtype: object"
      ]
     },
     "execution_count": 53,
     "metadata": {},
     "output_type": "execute_result"
    }
   ],
   "source": [
    "tn_budgets.dtypes"
   ]
  },
  {
   "cell_type": "code",
   "execution_count": 54,
   "metadata": {},
   "outputs": [],
   "source": [
    "tn_budgets['production_budget'] = tn_budgets['production_budget'].str.replace(',', '').str.replace('$', '').astype(int)\n",
    "tn_budgets['domestic_gross'] = tn_budgets['domestic_gross'].str.replace(',', '').str.replace('$', '').astype(int)\n",
    "tn_budgets['worldwide_gross'] = tn_budgets['worldwide_gross'].str.replace(',', '').str.replace('$', '').astype(float)\n",
    "#Changed dtype"
   ]
  },
  {
   "cell_type": "code",
   "execution_count": 55,
   "metadata": {},
   "outputs": [],
   "source": [
    "tn_budgets['release_date'] = tn_budgets['release_date'].str.replace(',', '')\n",
    "tn_budgets['release_date'] = pd.to_datetime(tn_budgets['release_date'])\n",
    "tn_budgets['Year'] = tn_budgets['release_date'].dt.year\n",
    "#Changed dtype and created new column"
   ]
  },
  {
   "cell_type": "code",
   "execution_count": 56,
   "metadata": {},
   "outputs": [],
   "source": [
    "tn_budgets = tn_budgets.drop('id',1)"
   ]
  },
  {
   "cell_type": "code",
   "execution_count": 57,
   "metadata": {},
   "outputs": [
    {
     "data": {
      "text/plain": [
       "release_date         datetime64[ns]\n",
       "production_budget             int32\n",
       "domestic_gross                int32\n",
       "worldwide_gross             float64\n",
       "Year                          int64\n",
       "dtype: object"
      ]
     },
     "execution_count": 57,
     "metadata": {},
     "output_type": "execute_result"
    }
   ],
   "source": [
    "tn_budgets.dtypes"
   ]
  },
  {
   "cell_type": "code",
   "execution_count": 59,
   "metadata": {},
   "outputs": [
    {
     "data": {
      "text/html": [
       "<div>\n",
       "<style scoped>\n",
       "    .dataframe tbody tr th:only-of-type {\n",
       "        vertical-align: middle;\n",
       "    }\n",
       "\n",
       "    .dataframe tbody tr th {\n",
       "        vertical-align: top;\n",
       "    }\n",
       "\n",
       "    .dataframe thead th {\n",
       "        text-align: right;\n",
       "    }\n",
       "</style>\n",
       "<table border=\"1\" class=\"dataframe\">\n",
       "  <thead>\n",
       "    <tr style=\"text-align: right;\">\n",
       "      <th></th>\n",
       "      <th>release_date</th>\n",
       "      <th>production_budget</th>\n",
       "      <th>domestic_gross</th>\n",
       "      <th>worldwide_gross</th>\n",
       "      <th>Year</th>\n",
       "    </tr>\n",
       "    <tr>\n",
       "      <th>movie</th>\n",
       "      <th></th>\n",
       "      <th></th>\n",
       "      <th></th>\n",
       "      <th></th>\n",
       "      <th></th>\n",
       "    </tr>\n",
       "  </thead>\n",
       "  <tbody>\n",
       "    <tr>\n",
       "      <td>Chicago Overcoat</td>\n",
       "      <td>2009-12-31</td>\n",
       "      <td>3000000</td>\n",
       "      <td>0</td>\n",
       "      <td>0.0</td>\n",
       "      <td>2009</td>\n",
       "    </tr>\n",
       "    <tr>\n",
       "      <td>Four Single Fathers</td>\n",
       "      <td>2009-12-31</td>\n",
       "      <td>3000000</td>\n",
       "      <td>0</td>\n",
       "      <td>0.0</td>\n",
       "      <td>2009</td>\n",
       "    </tr>\n",
       "    <tr>\n",
       "      <td>Diamond Ruff</td>\n",
       "      <td>2014-12-31</td>\n",
       "      <td>500000</td>\n",
       "      <td>0</td>\n",
       "      <td>0.0</td>\n",
       "      <td>2014</td>\n",
       "    </tr>\n",
       "    <tr>\n",
       "      <td>The Sound and the Shadow</td>\n",
       "      <td>2014-12-31</td>\n",
       "      <td>500000</td>\n",
       "      <td>0</td>\n",
       "      <td>0.0</td>\n",
       "      <td>2014</td>\n",
       "    </tr>\n",
       "  </tbody>\n",
       "</table>\n",
       "</div>"
      ],
      "text/plain": [
       "                         release_date  production_budget  domestic_gross  \\\n",
       "movie                                                                      \n",
       "Chicago Overcoat           2009-12-31            3000000               0   \n",
       "Four Single Fathers        2009-12-31            3000000               0   \n",
       "Diamond Ruff               2014-12-31             500000               0   \n",
       "The Sound and the Shadow   2014-12-31             500000               0   \n",
       "\n",
       "                          worldwide_gross  Year  \n",
       "movie                                            \n",
       "Chicago Overcoat                      0.0  2009  \n",
       "Four Single Fathers                   0.0  2009  \n",
       "Diamond Ruff                          0.0  2014  \n",
       "The Sound and the Shadow              0.0  2014  "
      ]
     },
     "execution_count": 59,
     "metadata": {},
     "output_type": "execute_result"
    }
   ],
   "source": [
    "tn_budgets[tn_budgets.duplicated(keep=False)].sort_values(by='Year')"
   ]
  },
  {
   "cell_type": "code",
   "execution_count": 67,
   "metadata": {},
   "outputs": [],
   "source": [
    "tn_budgets = tn_budgets[tn_budgets.duplicated()] "
   ]
  },
  {
   "cell_type": "code",
   "execution_count": 68,
   "metadata": {},
   "outputs": [
    {
     "data": {
      "text/html": [
       "<div>\n",
       "<style scoped>\n",
       "    .dataframe tbody tr th:only-of-type {\n",
       "        vertical-align: middle;\n",
       "    }\n",
       "\n",
       "    .dataframe tbody tr th {\n",
       "        vertical-align: top;\n",
       "    }\n",
       "\n",
       "    .dataframe thead th {\n",
       "        text-align: right;\n",
       "    }\n",
       "</style>\n",
       "<table border=\"1\" class=\"dataframe\">\n",
       "  <thead>\n",
       "    <tr style=\"text-align: right;\">\n",
       "      <th></th>\n",
       "      <th>release_date</th>\n",
       "      <th>production_budget</th>\n",
       "      <th>domestic_gross</th>\n",
       "      <th>worldwide_gross</th>\n",
       "      <th>Year</th>\n",
       "    </tr>\n",
       "    <tr>\n",
       "      <th>movie</th>\n",
       "      <th></th>\n",
       "      <th></th>\n",
       "      <th></th>\n",
       "      <th></th>\n",
       "      <th></th>\n",
       "    </tr>\n",
       "  </thead>\n",
       "  <tbody>\n",
       "  </tbody>\n",
       "</table>\n",
       "</div>"
      ],
      "text/plain": [
       "Empty DataFrame\n",
       "Columns: [release_date, production_budget, domestic_gross, worldwide_gross, Year]\n",
       "Index: []"
      ]
     },
     "execution_count": 68,
     "metadata": {},
     "output_type": "execute_result"
    }
   ],
   "source": [
    "tn_budgets[tn_budgets.duplicated(keep=False)].sort_values(by='Year')"
   ]
  },
  {
   "cell_type": "code",
   "execution_count": 69,
   "metadata": {},
   "outputs": [
    {
     "data": {
      "text/plain": [
       "release_date         0\n",
       "production_budget    0\n",
       "domestic_gross       0\n",
       "worldwide_gross      0\n",
       "Year                 0\n",
       "dtype: int64"
      ]
     },
     "execution_count": 69,
     "metadata": {},
     "output_type": "execute_result"
    }
   ],
   "source": [
    "tn_budgets.isna().sum()"
   ]
  },
  {
   "cell_type": "code",
   "execution_count": 71,
   "metadata": {},
   "outputs": [
    {
     "data": {
      "text/html": [
       "<div>\n",
       "<style scoped>\n",
       "    .dataframe tbody tr th:only-of-type {\n",
       "        vertical-align: middle;\n",
       "    }\n",
       "\n",
       "    .dataframe tbody tr th {\n",
       "        vertical-align: top;\n",
       "    }\n",
       "\n",
       "    .dataframe thead th {\n",
       "        text-align: right;\n",
       "    }\n",
       "</style>\n",
       "<table border=\"1\" class=\"dataframe\">\n",
       "  <thead>\n",
       "    <tr style=\"text-align: right;\">\n",
       "      <th></th>\n",
       "      <th>release_date</th>\n",
       "      <th>production_budget</th>\n",
       "      <th>domestic_gross</th>\n",
       "      <th>worldwide_gross</th>\n",
       "      <th>Year</th>\n",
       "    </tr>\n",
       "    <tr>\n",
       "      <th>movie</th>\n",
       "      <th></th>\n",
       "      <th></th>\n",
       "      <th></th>\n",
       "      <th></th>\n",
       "      <th></th>\n",
       "    </tr>\n",
       "  </thead>\n",
       "  <tbody>\n",
       "    <tr>\n",
       "      <td>Four Single Fathers</td>\n",
       "      <td>2009-12-31</td>\n",
       "      <td>3000000</td>\n",
       "      <td>0</td>\n",
       "      <td>0.0</td>\n",
       "      <td>2009</td>\n",
       "    </tr>\n",
       "    <tr>\n",
       "      <td>The Sound and the Shadow</td>\n",
       "      <td>2014-12-31</td>\n",
       "      <td>500000</td>\n",
       "      <td>0</td>\n",
       "      <td>0.0</td>\n",
       "      <td>2014</td>\n",
       "    </tr>\n",
       "  </tbody>\n",
       "</table>\n",
       "</div>"
      ],
      "text/plain": [
       "                         release_date  production_budget  domestic_gross  \\\n",
       "movie                                                                      \n",
       "Four Single Fathers        2009-12-31            3000000               0   \n",
       "The Sound and the Shadow   2014-12-31             500000               0   \n",
       "\n",
       "                          worldwide_gross  Year  \n",
       "movie                                            \n",
       "Four Single Fathers                   0.0  2009  \n",
       "The Sound and the Shadow              0.0  2014  "
      ]
     },
     "execution_count": 71,
     "metadata": {},
     "output_type": "execute_result"
    }
   ],
   "source": [
    "tn_budgets[(tn_budgets['domestic_gross'] == 0) & (tn_budgets['worldwide_gross'] == 0 )]"
   ]
  },
  {
   "cell_type": "code",
   "execution_count": 72,
   "metadata": {},
   "outputs": [
    {
     "data": {
      "text/plain": [
       "Year\n",
       "2009    3000000\n",
       "2014     500000\n",
       "Name: production_budget, dtype: int32"
      ]
     },
     "execution_count": 72,
     "metadata": {},
     "output_type": "execute_result"
    }
   ],
   "source": [
    "#What is the average budget per year? Lets find out!\n",
    "grouped_budget = tn_budgets.groupby(['Year'])['production_budget'].mean()\n",
    "grouped_budget.head()"
   ]
  },
  {
   "cell_type": "code",
   "execution_count": 73,
   "metadata": {},
   "outputs": [
    {
     "ename": "AttributeError",
     "evalue": "'Series' object has no attribute 'pivot'",
     "output_type": "error",
     "traceback": [
      "\u001b[1;31m---------------------------------------------------------------------------\u001b[0m",
      "\u001b[1;31mAttributeError\u001b[0m                            Traceback (most recent call last)",
      "\u001b[1;32m<ipython-input-73-ba184d296853>\u001b[0m in \u001b[0;36m<module>\u001b[1;34m\u001b[0m\n\u001b[1;32m----> 1\u001b[1;33m \u001b[0mpivoted\u001b[0m \u001b[1;33m=\u001b[0m \u001b[0mgrouped_budget\u001b[0m\u001b[1;33m.\u001b[0m\u001b[0mpivot\u001b[0m\u001b[1;33m(\u001b[0m\u001b[0mindex\u001b[0m\u001b[1;33m=\u001b[0m\u001b[1;34m'Year'\u001b[0m\u001b[1;33m,\u001b[0m \u001b[0mcolumns\u001b[0m\u001b[1;33m=\u001b[0m\u001b[1;34m'movie'\u001b[0m\u001b[1;33m,\u001b[0m \u001b[0mvalues\u001b[0m\u001b[1;33m=\u001b[0m\u001b[1;34m'production_budget'\u001b[0m\u001b[1;33m)\u001b[0m\u001b[1;33m\u001b[0m\u001b[1;33m\u001b[0m\u001b[0m\n\u001b[0m\u001b[0;32m      2\u001b[0m \u001b[0mpivoted\u001b[0m\u001b[1;33m\u001b[0m\u001b[1;33m\u001b[0m\u001b[0m\n",
      "\u001b[1;32m~\\Anaconda3\\envs\\learn-env\\lib\\site-packages\\pandas\\core\\generic.py\u001b[0m in \u001b[0;36m__getattr__\u001b[1;34m(self, name)\u001b[0m\n\u001b[0;32m   5177\u001b[0m             \u001b[1;32mif\u001b[0m \u001b[0mself\u001b[0m\u001b[1;33m.\u001b[0m\u001b[0m_info_axis\u001b[0m\u001b[1;33m.\u001b[0m\u001b[0m_can_hold_identifiers_and_holds_name\u001b[0m\u001b[1;33m(\u001b[0m\u001b[0mname\u001b[0m\u001b[1;33m)\u001b[0m\u001b[1;33m:\u001b[0m\u001b[1;33m\u001b[0m\u001b[1;33m\u001b[0m\u001b[0m\n\u001b[0;32m   5178\u001b[0m                 \u001b[1;32mreturn\u001b[0m \u001b[0mself\u001b[0m\u001b[1;33m[\u001b[0m\u001b[0mname\u001b[0m\u001b[1;33m]\u001b[0m\u001b[1;33m\u001b[0m\u001b[1;33m\u001b[0m\u001b[0m\n\u001b[1;32m-> 5179\u001b[1;33m             \u001b[1;32mreturn\u001b[0m \u001b[0mobject\u001b[0m\u001b[1;33m.\u001b[0m\u001b[0m__getattribute__\u001b[0m\u001b[1;33m(\u001b[0m\u001b[0mself\u001b[0m\u001b[1;33m,\u001b[0m \u001b[0mname\u001b[0m\u001b[1;33m)\u001b[0m\u001b[1;33m\u001b[0m\u001b[1;33m\u001b[0m\u001b[0m\n\u001b[0m\u001b[0;32m   5180\u001b[0m \u001b[1;33m\u001b[0m\u001b[0m\n\u001b[0;32m   5181\u001b[0m     \u001b[1;32mdef\u001b[0m \u001b[0m__setattr__\u001b[0m\u001b[1;33m(\u001b[0m\u001b[0mself\u001b[0m\u001b[1;33m,\u001b[0m \u001b[0mname\u001b[0m\u001b[1;33m,\u001b[0m \u001b[0mvalue\u001b[0m\u001b[1;33m)\u001b[0m\u001b[1;33m:\u001b[0m\u001b[1;33m\u001b[0m\u001b[1;33m\u001b[0m\u001b[0m\n",
      "\u001b[1;31mAttributeError\u001b[0m: 'Series' object has no attribute 'pivot'"
     ]
    }
   ],
   "source": [
    "pivoted = grouped_budget.pivot(index='Year', columns='movie', values='production_budget')\n",
    "pivoted"
   ]
  },
  {
   "cell_type": "code",
   "execution_count": 52,
   "metadata": {},
   "outputs": [
    {
     "data": {
      "text/plain": [
       "Year\n",
       "1915    10000000.0\n",
       "1916     4000000.0\n",
       "1920     3000000.0\n",
       "1925    10000000.0\n",
       "1927           0.0\n",
       "           ...    \n",
       "2016    18704596.0\n",
       "2017    26932488.0\n",
       "2018    39282227.0\n",
       "2019    16790790.0\n",
       "2020           0.0\n",
       "Name: domestic_gross, Length: 96, dtype: float64"
      ]
     },
     "execution_count": 52,
     "metadata": {},
     "output_type": "execute_result"
    }
   ],
   "source": [
    "#What is the middle \n",
    "grouped_dom = tn_budgets.groupby('Year')['domestic_gross'].median()\n",
    "grouped_dom"
   ]
  },
  {
   "cell_type": "code",
   "execution_count": 51,
   "metadata": {},
   "outputs": [
    {
     "data": {
      "text/plain": [
       "Year\n",
       "1915    11000000.0\n",
       "1916     4000000.0\n",
       "1920     3000000.0\n",
       "1925    15500000.0\n",
       "1927           0.0\n",
       "           ...    \n",
       "2016    38985577.0\n",
       "2017    53546916.5\n",
       "2018    66295121.0\n",
       "2019    19789712.0\n",
       "2020           0.0\n",
       "Name: worldwide_gross, Length: 96, dtype: float64"
      ]
     },
     "execution_count": 51,
     "metadata": {},
     "output_type": "execute_result"
    }
   ],
   "source": [
    "grouped_wor = tn_budgets.groupby('Year')['worldwide_gross'].median()\n",
    "grouped_wor"
   ]
  },
  {
   "cell_type": "markdown",
   "metadata": {},
   "source": [
    "Data Exploration"
   ]
  },
  {
   "cell_type": "code",
   "execution_count": 19,
   "metadata": {
    "scrolled": true
   },
   "outputs": [
    {
     "data": {
      "text/html": [
       "<div>\n",
       "<style scoped>\n",
       "    .dataframe tbody tr th:only-of-type {\n",
       "        vertical-align: middle;\n",
       "    }\n",
       "\n",
       "    .dataframe tbody tr th {\n",
       "        vertical-align: top;\n",
       "    }\n",
       "\n",
       "    .dataframe thead th {\n",
       "        text-align: right;\n",
       "    }\n",
       "</style>\n",
       "<table border=\"1\" class=\"dataframe\">\n",
       "  <thead>\n",
       "    <tr style=\"text-align: right;\">\n",
       "      <th></th>\n",
       "      <th>release_date</th>\n",
       "      <th>production_budget</th>\n",
       "      <th>domestic_gross</th>\n",
       "      <th>worldwide_gross</th>\n",
       "      <th>year_of_release</th>\n",
       "    </tr>\n",
       "    <tr>\n",
       "      <th>movie</th>\n",
       "      <th></th>\n",
       "      <th></th>\n",
       "      <th></th>\n",
       "      <th></th>\n",
       "      <th></th>\n",
       "    </tr>\n",
       "  </thead>\n",
       "  <tbody>\n",
       "    <tr>\n",
       "      <td>Avatar</td>\n",
       "      <td>2009-12-18</td>\n",
       "      <td>425000000</td>\n",
       "      <td>760507625</td>\n",
       "      <td>2.776345e+09</td>\n",
       "      <td>2009-01-01</td>\n",
       "    </tr>\n",
       "    <tr>\n",
       "      <td>Pirates of the Caribbean: On Stranger Tides</td>\n",
       "      <td>2011-05-20</td>\n",
       "      <td>410600000</td>\n",
       "      <td>241063875</td>\n",
       "      <td>1.045664e+09</td>\n",
       "      <td>2011-01-01</td>\n",
       "    </tr>\n",
       "    <tr>\n",
       "      <td>Dark Phoenix</td>\n",
       "      <td>2019-06-07</td>\n",
       "      <td>350000000</td>\n",
       "      <td>42762350</td>\n",
       "      <td>1.497624e+08</td>\n",
       "      <td>2019-01-01</td>\n",
       "    </tr>\n",
       "    <tr>\n",
       "      <td>Avengers: Age of Ultron</td>\n",
       "      <td>2015-05-01</td>\n",
       "      <td>330600000</td>\n",
       "      <td>459005868</td>\n",
       "      <td>1.403014e+09</td>\n",
       "      <td>2015-01-01</td>\n",
       "    </tr>\n",
       "    <tr>\n",
       "      <td>Star Wars Ep. VIII: The Last Jedi</td>\n",
       "      <td>2017-12-15</td>\n",
       "      <td>317000000</td>\n",
       "      <td>620181382</td>\n",
       "      <td>1.316722e+09</td>\n",
       "      <td>2017-01-01</td>\n",
       "    </tr>\n",
       "    <tr>\n",
       "      <td>...</td>\n",
       "      <td>...</td>\n",
       "      <td>...</td>\n",
       "      <td>...</td>\n",
       "      <td>...</td>\n",
       "      <td>...</td>\n",
       "    </tr>\n",
       "    <tr>\n",
       "      <td>Cavite</td>\n",
       "      <td>2006-05-26</td>\n",
       "      <td>7000</td>\n",
       "      <td>70071</td>\n",
       "      <td>7.164400e+04</td>\n",
       "      <td>2006-01-01</td>\n",
       "    </tr>\n",
       "    <tr>\n",
       "      <td>The Mongol King</td>\n",
       "      <td>2004-12-31</td>\n",
       "      <td>7000</td>\n",
       "      <td>900</td>\n",
       "      <td>9.000000e+02</td>\n",
       "      <td>2004-01-01</td>\n",
       "    </tr>\n",
       "    <tr>\n",
       "      <td>Following</td>\n",
       "      <td>1999-04-02</td>\n",
       "      <td>6000</td>\n",
       "      <td>48482</td>\n",
       "      <td>2.404950e+05</td>\n",
       "      <td>1999-01-01</td>\n",
       "    </tr>\n",
       "    <tr>\n",
       "      <td>Return to the Land of Wonders</td>\n",
       "      <td>2005-07-13</td>\n",
       "      <td>5000</td>\n",
       "      <td>1338</td>\n",
       "      <td>1.338000e+03</td>\n",
       "      <td>2005-01-01</td>\n",
       "    </tr>\n",
       "    <tr>\n",
       "      <td>My Date With Drew</td>\n",
       "      <td>2005-08-05</td>\n",
       "      <td>1100</td>\n",
       "      <td>181041</td>\n",
       "      <td>1.810410e+05</td>\n",
       "      <td>2005-01-01</td>\n",
       "    </tr>\n",
       "  </tbody>\n",
       "</table>\n",
       "<p>5234 rows × 5 columns</p>\n",
       "</div>"
      ],
      "text/plain": [
       "                                            release_date  production_budget  \\\n",
       "movie                                                                         \n",
       "Avatar                                        2009-12-18          425000000   \n",
       "Pirates of the Caribbean: On Stranger Tides   2011-05-20          410600000   \n",
       "Dark Phoenix                                  2019-06-07          350000000   \n",
       "Avengers: Age of Ultron                       2015-05-01          330600000   \n",
       "Star Wars Ep. VIII: The Last Jedi             2017-12-15          317000000   \n",
       "...                                                  ...                ...   \n",
       "Cavite                                        2006-05-26               7000   \n",
       "The Mongol King                               2004-12-31               7000   \n",
       "Following                                     1999-04-02               6000   \n",
       "Return to the Land of Wonders                 2005-07-13               5000   \n",
       "My Date With Drew                             2005-08-05               1100   \n",
       "\n",
       "                                             domestic_gross  worldwide_gross  \\\n",
       "movie                                                                          \n",
       "Avatar                                            760507625     2.776345e+09   \n",
       "Pirates of the Caribbean: On Stranger Tides       241063875     1.045664e+09   \n",
       "Dark Phoenix                                       42762350     1.497624e+08   \n",
       "Avengers: Age of Ultron                           459005868     1.403014e+09   \n",
       "Star Wars Ep. VIII: The Last Jedi                 620181382     1.316722e+09   \n",
       "...                                                     ...              ...   \n",
       "Cavite                                                70071     7.164400e+04   \n",
       "The Mongol King                                         900     9.000000e+02   \n",
       "Following                                             48482     2.404950e+05   \n",
       "Return to the Land of Wonders                          1338     1.338000e+03   \n",
       "My Date With Drew                                    181041     1.810410e+05   \n",
       "\n",
       "                                            year_of_release  \n",
       "movie                                                        \n",
       "Avatar                                           2009-01-01  \n",
       "Pirates of the Caribbean: On Stranger Tides      2011-01-01  \n",
       "Dark Phoenix                                     2019-01-01  \n",
       "Avengers: Age of Ultron                          2015-01-01  \n",
       "Star Wars Ep. VIII: The Last Jedi                2017-01-01  \n",
       "...                                                     ...  \n",
       "Cavite                                           2006-01-01  \n",
       "The Mongol King                                  2004-01-01  \n",
       "Following                                        1999-01-01  \n",
       "Return to the Land of Wonders                    2005-01-01  \n",
       "My Date With Drew                                2005-01-01  \n",
       "\n",
       "[5234 rows x 5 columns]"
      ]
     },
     "execution_count": 19,
     "metadata": {},
     "output_type": "execute_result"
    }
   ],
   "source": [
    "mark = (tn_budgets['domestic_gross'] > 0) & (tn_budgets['worldwide_gross'] > 0 ) \n",
    "new_df = tn_budgets[mark].drop('id',1)\n",
    "new_df\n",
    "#I created a new dateframe with only movies with domestic and worldwide gross greater than 0"
   ]
  },
  {
   "cell_type": "code",
   "execution_count": 11,
   "metadata": {
    "scrolled": true
   },
   "outputs": [
    {
     "data": {
      "text/html": [
       "<div>\n",
       "<style scoped>\n",
       "    .dataframe tbody tr th:only-of-type {\n",
       "        vertical-align: middle;\n",
       "    }\n",
       "\n",
       "    .dataframe tbody tr th {\n",
       "        vertical-align: top;\n",
       "    }\n",
       "\n",
       "    .dataframe thead th {\n",
       "        text-align: right;\n",
       "    }\n",
       "</style>\n",
       "<table border=\"1\" class=\"dataframe\">\n",
       "  <thead>\n",
       "    <tr style=\"text-align: right;\">\n",
       "      <th></th>\n",
       "      <th>release_date</th>\n",
       "      <th>production_budget</th>\n",
       "      <th>domestic_gross</th>\n",
       "      <th>worldwide_gross</th>\n",
       "      <th>year_of_release</th>\n",
       "    </tr>\n",
       "    <tr>\n",
       "      <th>movie</th>\n",
       "      <th></th>\n",
       "      <th></th>\n",
       "      <th></th>\n",
       "      <th></th>\n",
       "      <th></th>\n",
       "    </tr>\n",
       "  </thead>\n",
       "  <tbody>\n",
       "    <tr>\n",
       "      <td>Pirates of the Caribbean: On Stranger Tides</td>\n",
       "      <td>2011-05-20</td>\n",
       "      <td>410600000</td>\n",
       "      <td>241063875</td>\n",
       "      <td>1.045664e+09</td>\n",
       "      <td>2011-01-01</td>\n",
       "    </tr>\n",
       "    <tr>\n",
       "      <td>Dark Phoenix</td>\n",
       "      <td>2019-06-07</td>\n",
       "      <td>350000000</td>\n",
       "      <td>42762350</td>\n",
       "      <td>1.497624e+08</td>\n",
       "      <td>2019-01-01</td>\n",
       "    </tr>\n",
       "    <tr>\n",
       "      <td>Avengers: Age of Ultron</td>\n",
       "      <td>2015-05-01</td>\n",
       "      <td>330600000</td>\n",
       "      <td>459005868</td>\n",
       "      <td>1.403014e+09</td>\n",
       "      <td>2015-01-01</td>\n",
       "    </tr>\n",
       "    <tr>\n",
       "      <td>Star Wars Ep. VIII: The Last Jedi</td>\n",
       "      <td>2017-12-15</td>\n",
       "      <td>317000000</td>\n",
       "      <td>620181382</td>\n",
       "      <td>1.316722e+09</td>\n",
       "      <td>2017-01-01</td>\n",
       "    </tr>\n",
       "    <tr>\n",
       "      <td>Star Wars Ep. VII: The Force Awakens</td>\n",
       "      <td>2015-12-18</td>\n",
       "      <td>306000000</td>\n",
       "      <td>936662225</td>\n",
       "      <td>2.053311e+09</td>\n",
       "      <td>2015-01-01</td>\n",
       "    </tr>\n",
       "    <tr>\n",
       "      <td>...</td>\n",
       "      <td>...</td>\n",
       "      <td>...</td>\n",
       "      <td>...</td>\n",
       "      <td>...</td>\n",
       "      <td>...</td>\n",
       "    </tr>\n",
       "    <tr>\n",
       "      <td>Krisha</td>\n",
       "      <td>2016-03-18</td>\n",
       "      <td>30000</td>\n",
       "      <td>144822</td>\n",
       "      <td>1.448220e+05</td>\n",
       "      <td>2016-01-01</td>\n",
       "    </tr>\n",
       "    <tr>\n",
       "      <td>Down Terrace</td>\n",
       "      <td>2010-10-15</td>\n",
       "      <td>30000</td>\n",
       "      <td>9812</td>\n",
       "      <td>9.812000e+03</td>\n",
       "      <td>2010-01-01</td>\n",
       "    </tr>\n",
       "    <tr>\n",
       "      <td>Emily</td>\n",
       "      <td>2017-01-27</td>\n",
       "      <td>27000</td>\n",
       "      <td>3547</td>\n",
       "      <td>3.547000e+03</td>\n",
       "      <td>2017-01-01</td>\n",
       "    </tr>\n",
       "    <tr>\n",
       "      <td>Breaking Upwards</td>\n",
       "      <td>2010-04-02</td>\n",
       "      <td>15000</td>\n",
       "      <td>115592</td>\n",
       "      <td>1.155920e+05</td>\n",
       "      <td>2010-01-01</td>\n",
       "    </tr>\n",
       "    <tr>\n",
       "      <td>Newlyweds</td>\n",
       "      <td>2012-01-13</td>\n",
       "      <td>9000</td>\n",
       "      <td>4584</td>\n",
       "      <td>4.584000e+03</td>\n",
       "      <td>2012-01-01</td>\n",
       "    </tr>\n",
       "  </tbody>\n",
       "</table>\n",
       "<p>1787 rows × 5 columns</p>\n",
       "</div>"
      ],
      "text/plain": [
       "                                            release_date  production_budget  \\\n",
       "movie                                                                         \n",
       "Pirates of the Caribbean: On Stranger Tides   2011-05-20          410600000   \n",
       "Dark Phoenix                                  2019-06-07          350000000   \n",
       "Avengers: Age of Ultron                       2015-05-01          330600000   \n",
       "Star Wars Ep. VIII: The Last Jedi             2017-12-15          317000000   \n",
       "Star Wars Ep. VII: The Force Awakens          2015-12-18          306000000   \n",
       "...                                                  ...                ...   \n",
       "Krisha                                        2016-03-18              30000   \n",
       "Down Terrace                                  2010-10-15              30000   \n",
       "Emily                                         2017-01-27              27000   \n",
       "Breaking Upwards                              2010-04-02              15000   \n",
       "Newlyweds                                     2012-01-13               9000   \n",
       "\n",
       "                                             domestic_gross  worldwide_gross  \\\n",
       "movie                                                                          \n",
       "Pirates of the Caribbean: On Stranger Tides       241063875     1.045664e+09   \n",
       "Dark Phoenix                                       42762350     1.497624e+08   \n",
       "Avengers: Age of Ultron                           459005868     1.403014e+09   \n",
       "Star Wars Ep. VIII: The Last Jedi                 620181382     1.316722e+09   \n",
       "Star Wars Ep. VII: The Force Awakens              936662225     2.053311e+09   \n",
       "...                                                     ...              ...   \n",
       "Krisha                                               144822     1.448220e+05   \n",
       "Down Terrace                                           9812     9.812000e+03   \n",
       "Emily                                                  3547     3.547000e+03   \n",
       "Breaking Upwards                                     115592     1.155920e+05   \n",
       "Newlyweds                                              4584     4.584000e+03   \n",
       "\n",
       "                                            year_of_release  \n",
       "movie                                                        \n",
       "Pirates of the Caribbean: On Stranger Tides      2011-01-01  \n",
       "Dark Phoenix                                     2019-01-01  \n",
       "Avengers: Age of Ultron                          2015-01-01  \n",
       "Star Wars Ep. VIII: The Last Jedi                2017-01-01  \n",
       "Star Wars Ep. VII: The Force Awakens             2015-01-01  \n",
       "...                                                     ...  \n",
       "Krisha                                           2016-01-01  \n",
       "Down Terrace                                     2010-01-01  \n",
       "Emily                                            2017-01-01  \n",
       "Breaking Upwards                                 2010-01-01  \n",
       "Newlyweds                                        2012-01-01  \n",
       "\n",
       "[1787 rows x 5 columns]"
      ]
     },
     "execution_count": 11,
     "metadata": {},
     "output_type": "execute_result"
    }
   ],
   "source": [
    "movie_year = new_df[(new_df['year_of_release'] >= '2010') & (new_df['year_of_release'] <= '2020')]\n",
    "movie_year\n",
    "#I created a dataframe with movies with year of release between 2010-2020"
   ]
  },
  {
   "cell_type": "code",
   "execution_count": 14,
   "metadata": {},
   "outputs": [
    {
     "data": {
      "text/html": [
       "<div>\n",
       "<style scoped>\n",
       "    .dataframe tbody tr th:only-of-type {\n",
       "        vertical-align: middle;\n",
       "    }\n",
       "\n",
       "    .dataframe tbody tr th {\n",
       "        vertical-align: top;\n",
       "    }\n",
       "\n",
       "    .dataframe thead th {\n",
       "        text-align: right;\n",
       "    }\n",
       "</style>\n",
       "<table border=\"1\" class=\"dataframe\">\n",
       "  <thead>\n",
       "    <tr style=\"text-align: right;\">\n",
       "      <th></th>\n",
       "      <th>release_date</th>\n",
       "      <th>production_budget</th>\n",
       "      <th>domestic_gross</th>\n",
       "      <th>worldwide_gross</th>\n",
       "      <th>year_of_release</th>\n",
       "    </tr>\n",
       "    <tr>\n",
       "      <th>movie</th>\n",
       "      <th></th>\n",
       "      <th></th>\n",
       "      <th></th>\n",
       "      <th></th>\n",
       "      <th></th>\n",
       "    </tr>\n",
       "  </thead>\n",
       "  <tbody>\n",
       "    <tr>\n",
       "      <td>Avengers: Age of Ultron</td>\n",
       "      <td>2015-05-01</td>\n",
       "      <td>330600000</td>\n",
       "      <td>459005868</td>\n",
       "      <td>1.403014e+09</td>\n",
       "      <td>2015-01-01</td>\n",
       "    </tr>\n",
       "    <tr>\n",
       "      <td>Star Wars Ep. VII: The Force Awakens</td>\n",
       "      <td>2015-12-18</td>\n",
       "      <td>306000000</td>\n",
       "      <td>936662225</td>\n",
       "      <td>2.053311e+09</td>\n",
       "      <td>2015-01-01</td>\n",
       "    </tr>\n",
       "    <tr>\n",
       "      <td>Spectre</td>\n",
       "      <td>2015-11-06</td>\n",
       "      <td>300000000</td>\n",
       "      <td>200074175</td>\n",
       "      <td>8.796209e+08</td>\n",
       "      <td>2015-01-01</td>\n",
       "    </tr>\n",
       "    <tr>\n",
       "      <td>Jurassic World</td>\n",
       "      <td>2015-06-12</td>\n",
       "      <td>215000000</td>\n",
       "      <td>652270625</td>\n",
       "      <td>1.648855e+09</td>\n",
       "      <td>2015-01-01</td>\n",
       "    </tr>\n",
       "    <tr>\n",
       "      <td>Furious 7</td>\n",
       "      <td>2015-04-03</td>\n",
       "      <td>190000000</td>\n",
       "      <td>353007020</td>\n",
       "      <td>1.518723e+09</td>\n",
       "      <td>2015-01-01</td>\n",
       "    </tr>\n",
       "    <tr>\n",
       "      <td>...</td>\n",
       "      <td>...</td>\n",
       "      <td>...</td>\n",
       "      <td>...</td>\n",
       "      <td>...</td>\n",
       "      <td>...</td>\n",
       "    </tr>\n",
       "    <tr>\n",
       "      <td>Antarctic Edge: 70Âº South</td>\n",
       "      <td>2015-04-17</td>\n",
       "      <td>150000</td>\n",
       "      <td>7193</td>\n",
       "      <td>7.193000e+03</td>\n",
       "      <td>2015-01-01</td>\n",
       "    </tr>\n",
       "    <tr>\n",
       "      <td>Top Spin</td>\n",
       "      <td>2015-08-21</td>\n",
       "      <td>150000</td>\n",
       "      <td>5858</td>\n",
       "      <td>5.858000e+03</td>\n",
       "      <td>2015-01-01</td>\n",
       "    </tr>\n",
       "    <tr>\n",
       "      <td>The Gallows</td>\n",
       "      <td>2015-07-10</td>\n",
       "      <td>100000</td>\n",
       "      <td>22764410</td>\n",
       "      <td>4.165647e+07</td>\n",
       "      <td>2015-01-01</td>\n",
       "    </tr>\n",
       "    <tr>\n",
       "      <td>Dawn of the Crescent Moon</td>\n",
       "      <td>2015-07-17</td>\n",
       "      <td>75000</td>\n",
       "      <td>8799</td>\n",
       "      <td>8.799000e+03</td>\n",
       "      <td>2015-01-01</td>\n",
       "    </tr>\n",
       "    <tr>\n",
       "      <td>Counting</td>\n",
       "      <td>2015-07-31</td>\n",
       "      <td>50000</td>\n",
       "      <td>8374</td>\n",
       "      <td>8.374000e+03</td>\n",
       "      <td>2015-01-01</td>\n",
       "    </tr>\n",
       "  </tbody>\n",
       "</table>\n",
       "<p>208 rows × 5 columns</p>\n",
       "</div>"
      ],
      "text/plain": [
       "                                     release_date  production_budget  \\\n",
       "movie                                                                  \n",
       "Avengers: Age of Ultron                2015-05-01          330600000   \n",
       "Star Wars Ep. VII: The Force Awakens   2015-12-18          306000000   \n",
       "Spectre                                2015-11-06          300000000   \n",
       "Jurassic World                         2015-06-12          215000000   \n",
       "Furious 7                              2015-04-03          190000000   \n",
       "...                                           ...                ...   \n",
       "Antarctic Edge: 70Âº South             2015-04-17             150000   \n",
       "Top Spin                               2015-08-21             150000   \n",
       "The Gallows                            2015-07-10             100000   \n",
       "Dawn of the Crescent Moon              2015-07-17              75000   \n",
       "Counting                               2015-07-31              50000   \n",
       "\n",
       "                                      domestic_gross  worldwide_gross  \\\n",
       "movie                                                                   \n",
       "Avengers: Age of Ultron                    459005868     1.403014e+09   \n",
       "Star Wars Ep. VII: The Force Awakens       936662225     2.053311e+09   \n",
       "Spectre                                    200074175     8.796209e+08   \n",
       "Jurassic World                             652270625     1.648855e+09   \n",
       "Furious 7                                  353007020     1.518723e+09   \n",
       "...                                              ...              ...   \n",
       "Antarctic Edge: 70Âº South                      7193     7.193000e+03   \n",
       "Top Spin                                        5858     5.858000e+03   \n",
       "The Gallows                                 22764410     4.165647e+07   \n",
       "Dawn of the Crescent Moon                       8799     8.799000e+03   \n",
       "Counting                                        8374     8.374000e+03   \n",
       "\n",
       "                                     year_of_release  \n",
       "movie                                                 \n",
       "Avengers: Age of Ultron                   2015-01-01  \n",
       "Star Wars Ep. VII: The Force Awakens      2015-01-01  \n",
       "Spectre                                   2015-01-01  \n",
       "Jurassic World                            2015-01-01  \n",
       "Furious 7                                 2015-01-01  \n",
       "...                                              ...  \n",
       "Antarctic Edge: 70Âº South                2015-01-01  \n",
       "Top Spin                                  2015-01-01  \n",
       "The Gallows                               2015-01-01  \n",
       "Dawn of the Crescent Moon                 2015-01-01  \n",
       "Counting                                  2015-01-01  \n",
       "\n",
       "[208 rows x 5 columns]"
      ]
     },
     "execution_count": 14,
     "metadata": {},
     "output_type": "execute_result"
    }
   ],
   "source": [
    "movie_gross = movie_year[movie_year['year_of_release'] == '2015']\n",
    "movie_gross"
   ]
  },
  {
   "cell_type": "code",
   "execution_count": 17,
   "metadata": {},
   "outputs": [
    {
     "data": {
      "text/plain": [
       "production_budget    20000000.0\n",
       "domestic_gross       18031891.0\n",
       "worldwide_gross      39762671.5\n",
       "dtype: float64"
      ]
     },
     "execution_count": 17,
     "metadata": {},
     "output_type": "execute_result"
    }
   ],
   "source": [
    "movie_gross.median()"
   ]
  },
  {
   "cell_type": "code",
   "execution_count": 18,
   "metadata": {},
   "outputs": [
    {
     "data": {
      "text/plain": [
       "production_budget    3.940147e+07\n",
       "domestic_gross       5.190165e+07\n",
       "worldwide_gross      1.326961e+08\n",
       "dtype: float64"
      ]
     },
     "execution_count": 18,
     "metadata": {},
     "output_type": "execute_result"
    }
   ],
   "source": [
    "movie_gross.mean()"
   ]
  },
  {
   "cell_type": "code",
   "execution_count": 15,
   "metadata": {},
   "outputs": [
    {
     "data": {
      "image/png": "[encoded data removed]",
      "text/plain": [
       "<Figure size 432x288 with 1 Axes>"
      ]
     },
     "metadata": {
      "needs_background": "light"
     },
     "output_type": "display_data"
    }
   ],
   "source": [
    "ax = plt.gca()\n",
    "\n",
    "movie_gross.plot(kind = 'line', x = 'production_budget', y = 'domestic_gross', color = 'blue', ax=ax)\n",
    "movie_gross.plot(kind = 'line', x = 'production_budget', y = 'worldwide_gross', color = 'red', ax=ax)\n",
    "\n",
    "plt.title('Production Cost vs Gross')\n",
    "\n",
    "plt.xlabel('Gross')\n",
    "plt.ylabel()\n",
    "\n",
    "plt.show()"
   ]
  },
  {
   "cell_type": "code",
   "execution_count": null,
   "metadata": {},
   "outputs": [],
   "source": []
  }
 ],
 "metadata": {
  "kernelspec": {
   "display_name": "Python 3",
   "language": "python",
   "name": "python3"
  },
  "language_info": {
   "codemirror_mode": {
    "name": "ipython",
    "version": 3
   },
   "file_extension": ".py",
   "mimetype": "text/x-python",
   "name": "python",
   "nbconvert_exporter": "python",
   "pygments_lexer": "ipython3",
   "version": "3.6.9"
  }
 },
 "nbformat": 4,
 "nbformat_minor": 2
}
